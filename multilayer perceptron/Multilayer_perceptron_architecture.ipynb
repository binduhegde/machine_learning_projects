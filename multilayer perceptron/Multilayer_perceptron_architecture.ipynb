{
 "cells": [
  {
   "cell_type": "markdown",
   "id": "7ee3272d",
   "metadata": {},
   "source": [
    "In this notebook, we're going to build multi-layer perceptron architecture"
   ]
  },
  {
   "cell_type": "code",
   "execution_count": 1,
   "id": "dfb1d3e5",
   "metadata": {},
   "outputs": [],
   "source": [
    "import pandas as pd\n",
    "import numpy as np\n",
    "import matplotlib.pyplot as plt\n",
    "import seaborn as sns\n",
    "\n",
    "import warnings\n",
    "warnings.filterwarnings('ignore')"
   ]
  },
  {
   "cell_type": "code",
   "execution_count": 2,
   "id": "293f3b14",
   "metadata": {},
   "outputs": [],
   "source": [
    "import random\n",
    "random.seed(101)"
   ]
  },
  {
   "cell_type": "markdown",
   "id": "882034f4",
   "metadata": {},
   "source": [
    "### Loading Data"
   ]
  },
  {
   "cell_type": "code",
   "execution_count": 3,
   "id": "7bdf5913",
   "metadata": {},
   "outputs": [
    {
     "data": {
      "text/html": [
       "<div>\n",
       "<style scoped>\n",
       "    .dataframe tbody tr th:only-of-type {\n",
       "        vertical-align: middle;\n",
       "    }\n",
       "\n",
       "    .dataframe tbody tr th {\n",
       "        vertical-align: top;\n",
       "    }\n",
       "\n",
       "    .dataframe thead th {\n",
       "        text-align: right;\n",
       "    }\n",
       "</style>\n",
       "<table border=\"1\" class=\"dataframe\">\n",
       "  <thead>\n",
       "    <tr style=\"text-align: right;\">\n",
       "      <th></th>\n",
       "      <th>PassengerId</th>\n",
       "      <th>Survived</th>\n",
       "      <th>Pclass</th>\n",
       "      <th>Name</th>\n",
       "      <th>Sex</th>\n",
       "      <th>Age</th>\n",
       "      <th>SibSp</th>\n",
       "      <th>Parch</th>\n",
       "      <th>Ticket</th>\n",
       "      <th>Fare</th>\n",
       "      <th>Cabin</th>\n",
       "      <th>Embarked</th>\n",
       "    </tr>\n",
       "  </thead>\n",
       "  <tbody>\n",
       "    <tr>\n",
       "      <th>0</th>\n",
       "      <td>1</td>\n",
       "      <td>0</td>\n",
       "      <td>3</td>\n",
       "      <td>Braund, Mr. Owen Harris</td>\n",
       "      <td>male</td>\n",
       "      <td>22.0</td>\n",
       "      <td>1</td>\n",
       "      <td>0</td>\n",
       "      <td>A/5 21171</td>\n",
       "      <td>7.2500</td>\n",
       "      <td>NaN</td>\n",
       "      <td>S</td>\n",
       "    </tr>\n",
       "    <tr>\n",
       "      <th>1</th>\n",
       "      <td>2</td>\n",
       "      <td>1</td>\n",
       "      <td>1</td>\n",
       "      <td>Cumings, Mrs. John Bradley (Florence Briggs Th...</td>\n",
       "      <td>female</td>\n",
       "      <td>38.0</td>\n",
       "      <td>1</td>\n",
       "      <td>0</td>\n",
       "      <td>PC 17599</td>\n",
       "      <td>71.2833</td>\n",
       "      <td>C85</td>\n",
       "      <td>C</td>\n",
       "    </tr>\n",
       "    <tr>\n",
       "      <th>2</th>\n",
       "      <td>3</td>\n",
       "      <td>1</td>\n",
       "      <td>3</td>\n",
       "      <td>Heikkinen, Miss. Laina</td>\n",
       "      <td>female</td>\n",
       "      <td>26.0</td>\n",
       "      <td>0</td>\n",
       "      <td>0</td>\n",
       "      <td>STON/O2. 3101282</td>\n",
       "      <td>7.9250</td>\n",
       "      <td>NaN</td>\n",
       "      <td>S</td>\n",
       "    </tr>\n",
       "    <tr>\n",
       "      <th>3</th>\n",
       "      <td>4</td>\n",
       "      <td>1</td>\n",
       "      <td>1</td>\n",
       "      <td>Futrelle, Mrs. Jacques Heath (Lily May Peel)</td>\n",
       "      <td>female</td>\n",
       "      <td>35.0</td>\n",
       "      <td>1</td>\n",
       "      <td>0</td>\n",
       "      <td>113803</td>\n",
       "      <td>53.1000</td>\n",
       "      <td>C123</td>\n",
       "      <td>S</td>\n",
       "    </tr>\n",
       "    <tr>\n",
       "      <th>4</th>\n",
       "      <td>5</td>\n",
       "      <td>0</td>\n",
       "      <td>3</td>\n",
       "      <td>Allen, Mr. William Henry</td>\n",
       "      <td>male</td>\n",
       "      <td>35.0</td>\n",
       "      <td>0</td>\n",
       "      <td>0</td>\n",
       "      <td>373450</td>\n",
       "      <td>8.0500</td>\n",
       "      <td>NaN</td>\n",
       "      <td>S</td>\n",
       "    </tr>\n",
       "  </tbody>\n",
       "</table>\n",
       "</div>"
      ],
      "text/plain": [
       "   PassengerId  Survived  Pclass  \\\n",
       "0            1         0       3   \n",
       "1            2         1       1   \n",
       "2            3         1       3   \n",
       "3            4         1       1   \n",
       "4            5         0       3   \n",
       "\n",
       "                                                Name     Sex   Age  SibSp  \\\n",
       "0                            Braund, Mr. Owen Harris    male  22.0      1   \n",
       "1  Cumings, Mrs. John Bradley (Florence Briggs Th...  female  38.0      1   \n",
       "2                             Heikkinen, Miss. Laina  female  26.0      0   \n",
       "3       Futrelle, Mrs. Jacques Heath (Lily May Peel)  female  35.0      1   \n",
       "4                           Allen, Mr. William Henry    male  35.0      0   \n",
       "\n",
       "   Parch            Ticket     Fare Cabin Embarked  \n",
       "0      0         A/5 21171   7.2500   NaN        S  \n",
       "1      0          PC 17599  71.2833   C85        C  \n",
       "2      0  STON/O2. 3101282   7.9250   NaN        S  \n",
       "3      0            113803  53.1000  C123        S  \n",
       "4      0            373450   8.0500   NaN        S  "
      ]
     },
     "execution_count": 3,
     "metadata": {},
     "output_type": "execute_result"
    }
   ],
   "source": [
    "data = pd.read_csv('titanic_data.csv')\n",
    "data.head()"
   ]
  },
  {
   "cell_type": "code",
   "execution_count": 4,
   "id": "97ea4df5",
   "metadata": {},
   "outputs": [],
   "source": [
    "# In the dataset, the column 'Survived' in binary.\n",
    "# so we're making note of it here\n",
    "dict_live = {\n",
    "    0: 'Died',\n",
    "    1: 'Survived'\n",
    "}\n",
    "\n",
    "# assigning numeric value to the unique values of 'Sex' in the dataset\n",
    "dict_sex = {\n",
    "    'male': 0, \n",
    "    'female':1\n",
    "}\n",
    "\n",
    "# creating a new column which adds the sex of the person as binary value\n",
    "data['Bsex'] = data['Sex'].apply(lambda x:dict_sex[x])\n",
    "\n",
    "# features\n",
    "# these are the input features. then we convert this df to numpy array\n",
    "features = data[['Pclass', 'Bsex']].to_numpy()\n",
    "# these are the output features. then we convert this df to numpy array\n",
    "labels = data['Survived'].to_numpy()"
   ]
  },
  {
   "cell_type": "markdown",
   "id": "e26221a9",
   "metadata": {},
   "source": [
    "### Splittng The Data\n",
    "* **test_size = 0.3** means 30% of our data will be the testing data\n",
    "* **random_state** function controls the random number generator that shuffles data before splitting it. This parameter ensures that the same randomization is used each time the code is run, resulting in the same splits of the data"
   ]
  },
  {
   "cell_type": "code",
   "execution_count": 5,
   "id": "b87db888",
   "metadata": {},
   "outputs": [],
   "source": [
    "from sklearn.model_selection import train_test_split\n",
    "xtrain, xtest, ytrain, ytest = train_test_split(features, labels, test_size = 0.3, random_state = 0)"
   ]
  },
  {
   "cell_type": "markdown",
   "id": "dcb35459",
   "metadata": {},
   "source": [
    "## Multi-Layer Perceptron"
   ]
  },
  {
   "cell_type": "markdown",
   "id": "5e956054",
   "metadata": {},
   "source": [
    "### Activation Function and Derivation"
   ]
  },
  {
   "cell_type": "markdown",
   "id": "da28a469",
   "metadata": {},
   "source": [
    "##### Sigmoid Function"
   ]
  },
  {
   "cell_type": "code",
   "execution_count": 6,
   "id": "9b1bfd51",
   "metadata": {},
   "outputs": [],
   "source": [
    "# if derivative is set to True, it means\n",
    "# we want it to return the derivative of \n",
    "# the sigmoid function and vice versa\n",
    "def Sigmoid(x, derivative=False):\n",
    "    if derivative:\n",
    "        f = 1/(1 + np.exp(-x)) * (1-1/(1+np.exp(-x)))\n",
    "    else:\n",
    "        f = 1/(1 + np.exp(-x))\n",
    "    \n",
    "    return f\n",
    "        "
   ]
  },
  {
   "cell_type": "markdown",
   "id": "b14d88d1",
   "metadata": {},
   "source": [
    "#### ReLu Function"
   ]
  },
  {
   "cell_type": "code",
   "execution_count": 7,
   "id": "b6a68091",
   "metadata": {},
   "outputs": [],
   "source": [
    "def ReLu(x,  derivative=False):\n",
    "    if derivative:\n",
    "        # heaviside computes, for each value in x,\n",
    "        # the function returns 0 for negative values of x,\n",
    "        # 1 (2nd parameter we've set) for x = 0, \n",
    "        # and 1 for positive values of x.\n",
    "        f = np.heaviside(x, 1)\n",
    "    else:\n",
    "        f = np.maximum(x, 0)\n",
    "    return f"
   ]
  },
  {
   "cell_type": "markdown",
   "id": "52c415d9",
   "metadata": {},
   "source": [
    "### Training Model\n",
    "\n",
    "* **h1_units**: no of perceptrons in the 1st hidden layer default is set to 4\n",
    "* **h2_units**: no of perceptrons in the 2nd hidden layer. default is set to 4\n",
    "* **learning_rate**: is the alpha. 0.0015 seems like a good value\n",
    "* **np.random.rand()** function creates an array of a specified shape and fills it with random values from a uniform distribution between 0 and 1. The number of weights\n",
    "\n",
    "* **w1**: we want to create a matrix for w1. it will have h1_units of dimensions. and each dimension will have the size of the inputs. h1_units in this case is 4 and the number of inputs is 2 (Pclass and Bsex)\n",
    "* **b1**: will have inputs-for-the-current-layer number of values. in this case it's 4\n",
    "* **w2**: the size of this matrix will be, the number of inputs for the current layer multiplied by the number of ouputs from the pervious layer i.e., hidden_layer_1. so the shape will be, h2_units of rows and h1_units of columns"
   ]
  },
  {
   "cell_type": "code",
   "execution_count": 10,
   "id": "0bb12438",
   "metadata": {},
   "outputs": [],
   "source": [
    "def train_ANN(xtrain, ytrain, h1_units=4, h2_units=4, learning_rate=0.0015):\n",
    "    # so that we can get the same random values\n",
    "    random.seed(101)\n",
    "    \n",
    "    # hidden layer 1\n",
    "    w1 = 2 * np.random.rand(h1_units, xtrain.shape[1])\n",
    "    b1 = np.random.rand(h1_units)\n",
    "    \n",
    "    # hidden layer 2\n",
    "    w2 = 2 * np.random.rand(h2_units, h1_units)\n",
    "    b2 = np.random.rand(h1_units)\n",
    "    \n",
    "    \n",
    "    # output layer\n",
    "    w_out = 2 * np.random.rand(h2_units)\n",
    "    b_out = np.random.rand(1)\n",
    "    \n",
    "    loss = []\n",
    "    vec_y = []\n",
    "    \n",
    "    for i in range(0, xtrain.shape[0]):\n",
    "        x_data = xtrain[i]\n",
    "        \n",
    "        # 1. Feed Forward\n",
    "        h1 = ReLu(np.dot(w1, x_data) + b1) # hidden layer 1 output\n",
    "        h2 = ReLu(np.dot(w2, h1) + b2) # hidden layer 2 output\n",
    "        y = Sigmoid(np.dot(w_out, h2) + b_out) # output of the output layer\n",
    "    \n",
    "        # 2. Backpropagate - calculate the layer derivatives\n",
    "        delta_out = (y - ytrain[i]) * Sigmoid(y, derivative=True)\n",
    "        delta_2 = delta_out * w_out * ReLu(h2, derivative=True)\n",
    "        delta_1 = np.dot(delta_2, w2) * ReLu(h1, derivative=True) \n",
    "        \n",
    "        # 3. Gradient Descent\n",
    "        w_out -= learning_rate * delta_out * h2 # output layer\n",
    "        b_out -= learning_rate * delta_out\n",
    "        \n",
    "        # hidden layer2\n",
    "        w2 -= learning_rate * np.kron(delta_2, h1).reshape(h2_units, h1_units)\n",
    "        b2 -= learning_rate * delta_2\n",
    "        \n",
    "        # hidden layer 1\n",
    "        w1 -= learning_rate * np.kron(delta_1, x_data).reshape(h1_units, x_data.shape[0])\n",
    "        b1 -= learning_rate * delta_1\n",
    "        \n",
    "        # cost\n",
    "        loss.append((1/2) * (y-ytrain[i]) ** 2)\n",
    "         \n",
    "        vec_y.append(y[0])\n",
    "        \n",
    "    batch_loss = []\n",
    "    for i in range(0, 10):\n",
    "        loss_avg = 0\n",
    "        for m in range(0, 60):\n",
    "            loss_avg += vec_y[60*i + m] / 60\n",
    "        batch_loss.append(loss_avg)\n",
    "    \n",
    "    plt.figure(figsize=(10, 6))\n",
    "    plt.plot(np.arange(1, len(batch_loss) + 1), batch_loss)\n",
    "    plt.title('Average Loss by epoch', fontsize=20)\n",
    "    plt.xlabel('Epoch', fontsize=16)\n",
    "    plt.ylabel('Loss', fontsize=16)\n",
    "    plt.show()\n",
    "    \n",
    "    return w1, b1, w2, b2, w_out, b_out, loss\n",
    "    \n",
    "        \n",
    "        "
   ]
  },
  {
   "cell_type": "code",
   "execution_count": 11,
   "id": "993f1723",
   "metadata": {},
   "outputs": [
    {
     "data": {
      "image/png": "[encoded data removed]",
      "text/plain": [
       "<Figure size 1000x600 with 1 Axes>"
      ]
     },
     "metadata": {},
     "output_type": "display_data"
    }
   ],
   "source": [
    "w1, b1, w2, b2, w_out, b_out, loss = train_ANN(xtrain, ytrain)"
   ]
  },
  {
   "cell_type": "markdown",
   "id": "c66fd162",
   "metadata": {},
   "source": [
    "### Testing the Model"
   ]
  },
  {
   "cell_type": "code",
   "execution_count": 14,
   "id": "21b0aba7",
   "metadata": {},
   "outputs": [],
   "source": [
    "def ANN_pred(xtest, w1, b1, w2, b2, w_out, b_out):\n",
    "    \n",
    "    pred = []\n",
    "    \n",
    "    for i in range(0, xtest.shape[0]):\n",
    "        \n",
    "        x = xtest[i]\n",
    "        \n",
    "        z1 = ReLu(np.dot(w1, x) + b1) # hidden layer 1 output\n",
    "        z2 = ReLu(np.dot(w2, z1) + b2) # HL2 houtput\n",
    "        y = Sigmoid(np.dot(w_out, z2) + b_out) # output of the output layer\n",
    "        \n",
    "        pred.append(np.heaviside(y-0.5, 1)[0])\n",
    "        \n",
    "    return np.array(pred)\n",
    "        "
   ]
  },
  {
   "cell_type": "code",
   "execution_count": 15,
   "id": "94b91268",
   "metadata": {},
   "outputs": [
    {
     "data": {
      "text/plain": [
       "array([0., 0., 0., 1., 1., 0., 1., 1., 0., 1., 0., 1., 0., 1., 1., 1., 0.,\n",
       "       0., 0., 0., 0., 1., 0., 0., 1., 1., 0., 1., 1., 1., 0., 1., 0., 0.,\n",
       "       0., 0., 0., 0., 0., 0., 0., 0., 0., 0., 1., 0., 0., 1., 0., 0., 0.,\n",
       "       0., 1., 0., 0., 0., 0., 1., 0., 0., 0., 1., 1., 0., 1., 0., 1., 0.,\n",
       "       1., 1., 1., 0., 0., 0., 0., 1., 0., 0., 0., 0., 0., 0., 1., 0., 0.,\n",
       "       1., 1., 1., 1., 0., 0., 0., 0., 1., 1., 0., 1., 0., 0., 0., 0., 0.,\n",
       "       0., 0., 1., 1., 1., 1., 0., 1., 0., 1., 0., 1., 0., 1., 1., 1., 0.,\n",
       "       1., 0., 0., 0., 0., 0., 0., 0., 0., 0., 0., 1., 0., 0., 1., 0., 0.,\n",
       "       0., 1., 0., 0., 0., 1., 0., 1., 1., 1., 0., 1., 1., 0., 0., 1., 1.,\n",
       "       0., 1., 0., 1., 0., 1., 1., 0., 0., 1., 1., 0., 0., 0., 0., 0., 0.,\n",
       "       0., 1., 0., 0., 1., 0., 1., 0., 0., 1., 0., 0., 0., 0., 0., 0., 1.,\n",
       "       0., 0., 1., 1., 0., 1., 1., 0., 0., 0., 1., 0., 0., 0., 1., 0., 1.,\n",
       "       0., 0., 1., 0., 1., 0., 0., 0., 0., 1., 0., 0., 0., 0., 1., 1., 0.,\n",
       "       1., 1., 0., 1., 0., 0., 1., 0., 0., 0., 1., 1., 1., 0., 0., 1., 1.,\n",
       "       1., 0., 0., 1., 0., 0., 1., 0., 1., 0., 0., 1., 0., 0., 0., 0., 1.,\n",
       "       1., 1., 0., 0., 0., 0., 0., 0., 0., 0., 0., 1., 0.])"
      ]
     },
     "execution_count": 15,
     "metadata": {},
     "output_type": "execute_result"
    }
   ],
   "source": [
    "predictions = ANN_pred(xtest, w1, b1, w2, b2, w_out, b_out)\n",
    "predictions"
   ]
  },
  {
   "cell_type": "markdown",
   "id": "e395d876",
   "metadata": {},
   "source": [
    "### Model Evaluation"
   ]
  },
  {
   "cell_type": "code",
   "execution_count": 19,
   "id": "9456fd9b",
   "metadata": {},
   "outputs": [],
   "source": [
    "from sklearn.metrics import accuracy_score, confusion_matrix\n",
    "\n",
    "cm = confusion_matrix(ytest, predictions)\n",
    "\n",
    "ind_names = [dict_live[i] for i in range(0, 2)]\n",
    "cm_df = pd.DataFrame(cm, index = ind_names, columns = ind_names)"
   ]
  },
  {
   "cell_type": "code",
   "execution_count": 20,
   "id": "89b060e5",
   "metadata": {},
   "outputs": [
    {
     "data": {
      "text/html": [
       "<div>\n",
       "<style scoped>\n",
       "    .dataframe tbody tr th:only-of-type {\n",
       "        vertical-align: middle;\n",
       "    }\n",
       "\n",
       "    .dataframe tbody tr th {\n",
       "        vertical-align: top;\n",
       "    }\n",
       "\n",
       "    .dataframe thead th {\n",
       "        text-align: right;\n",
       "    }\n",
       "</style>\n",
       "<table border=\"1\" class=\"dataframe\">\n",
       "  <thead>\n",
       "    <tr style=\"text-align: right;\">\n",
       "      <th></th>\n",
       "      <th>Died</th>\n",
       "      <th>Survived</th>\n",
       "    </tr>\n",
       "  </thead>\n",
       "  <tbody>\n",
       "    <tr>\n",
       "      <th>Died</th>\n",
       "      <td>140</td>\n",
       "      <td>28</td>\n",
       "    </tr>\n",
       "    <tr>\n",
       "      <th>Survived</th>\n",
       "      <td>29</td>\n",
       "      <td>71</td>\n",
       "    </tr>\n",
       "  </tbody>\n",
       "</table>\n",
       "</div>"
      ],
      "text/plain": [
       "          Died  Survived\n",
       "Died       140        28\n",
       "Survived    29        71"
      ]
     },
     "execution_count": 20,
     "metadata": {},
     "output_type": "execute_result"
    }
   ],
   "source": [
    "cm_df"
   ]
  },
  {
   "cell_type": "code",
   "execution_count": 21,
   "id": "2f5479ce",
   "metadata": {},
   "outputs": [
    {
     "data": {
      "image/png": "[encoded data removed]",
      "text/plain": [
       "<Figure size 640x480 with 2 Axes>"
      ]
     },
     "metadata": {},
     "output_type": "display_data"
    }
   ],
   "source": [
    "sns.heatmap(cm_df, annot=True, cmap=plt.cm.Blues, fmt='g')\n",
    "plt.xlabel('Predicted Class')\n",
    "plt.ylabel('Actual Class')\n",
    "plt.show()"
   ]
  },
  {
   "cell_type": "code",
   "execution_count": 25,
   "id": "7b23a6a7",
   "metadata": {},
   "outputs": [
    {
     "name": "stdout",
     "output_type": "stream",
     "text": [
      "Your model is: 78.7% accurate\n"
     ]
    }
   ],
   "source": [
    "score = accuracy_score(ytest, predictions)\n",
    "print(f\"Your model is: {round(score * 100, 1)}% accurate\")"
   ]
  }
 ],
 "metadata": {
  "kernelspec": {
   "display_name": "Python 3 (ipykernel)",
   "language": "python",
   "name": "python3"
  },
  "language_info": {
   "codemirror_mode": {
    "name": "ipython",
    "version": 3
   },
   "file_extension": ".py",
   "mimetype": "text/x-python",
   "name": "python",
   "nbconvert_exporter": "python",
   "pygments_lexer": "ipython3",
   "version": "3.7.13"
  }
 },
 "nbformat": 4,
 "nbformat_minor": 5
}
