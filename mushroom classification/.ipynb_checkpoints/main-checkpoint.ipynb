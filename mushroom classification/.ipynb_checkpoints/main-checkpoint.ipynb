{
 "cells": [
  {
   "cell_type": "markdown",
   "id": "eee3944b",
   "metadata": {},
   "source": [
    "Accuracy in the end: 100 %"
   ]
  },
  {
   "cell_type": "code",
   "execution_count": 1,
   "id": "8eca656c",
   "metadata": {},
   "outputs": [],
   "source": [
    "import pandas as pd\n",
    "import numpy as np\n",
    "import matplotlib.pyplot as plt\n",
    "import seaborn as sns\n",
    "\n",
    "import warnings\n",
    "warnings.filterwarnings('ignore')\n",
    "\n",
    "from sklearn.preprocessing import LabelEncoder\n",
    "from sklearn.linear_model import LogisticRegression\n",
    "from sklearn.ensemble import RandomForestClassifier\n",
    "from sklearn.metrics import accuracy_score\n",
    "from sklearn.model_selection import train_test_split\n",
    "from sklearn.svm import SVC\n",
    "from sklearn.ensemble import GradientBoostingClassifier\n",
    "from sklearn.neighbors import KNeighborsClassifier\n",
    "from sklearn.naive_bayes import GaussianNB\n",
    "from sklearn.naive_bayes import MultinomialNB"
   ]
  },
  {
   "cell_type": "code",
   "execution_count": 2,
   "id": "6de47767",
   "metadata": {},
   "outputs": [
    {
     "data": {
      "text/html": [
       "<div>\n",
       "<style scoped>\n",
       "    .dataframe tbody tr th:only-of-type {\n",
       "        vertical-align: middle;\n",
       "    }\n",
       "\n",
       "    .dataframe tbody tr th {\n",
       "        vertical-align: top;\n",
       "    }\n",
       "\n",
       "    .dataframe thead th {\n",
       "        text-align: right;\n",
       "    }\n",
       "</style>\n",
       "<table border=\"1\" class=\"dataframe\">\n",
       "  <thead>\n",
       "    <tr style=\"text-align: right;\">\n",
       "      <th></th>\n",
       "      <th>class</th>\n",
       "      <th>cap-shape</th>\n",
       "      <th>cap-surface</th>\n",
       "      <th>cap-color</th>\n",
       "      <th>bruises</th>\n",
       "      <th>odor</th>\n",
       "      <th>gill-attachment</th>\n",
       "      <th>gill-spacing</th>\n",
       "      <th>gill-size</th>\n",
       "      <th>gill-color</th>\n",
       "      <th>...</th>\n",
       "      <th>stalk-surface-below-ring</th>\n",
       "      <th>stalk-color-above-ring</th>\n",
       "      <th>stalk-color-below-ring</th>\n",
       "      <th>veil-type</th>\n",
       "      <th>veil-color</th>\n",
       "      <th>ring-number</th>\n",
       "      <th>ring-type</th>\n",
       "      <th>spore-print-color</th>\n",
       "      <th>population</th>\n",
       "      <th>habitat</th>\n",
       "    </tr>\n",
       "  </thead>\n",
       "  <tbody>\n",
       "    <tr>\n",
       "      <th>0</th>\n",
       "      <td>p</td>\n",
       "      <td>x</td>\n",
       "      <td>s</td>\n",
       "      <td>n</td>\n",
       "      <td>t</td>\n",
       "      <td>p</td>\n",
       "      <td>f</td>\n",
       "      <td>c</td>\n",
       "      <td>n</td>\n",
       "      <td>k</td>\n",
       "      <td>...</td>\n",
       "      <td>s</td>\n",
       "      <td>w</td>\n",
       "      <td>w</td>\n",
       "      <td>p</td>\n",
       "      <td>w</td>\n",
       "      <td>o</td>\n",
       "      <td>p</td>\n",
       "      <td>k</td>\n",
       "      <td>s</td>\n",
       "      <td>u</td>\n",
       "    </tr>\n",
       "    <tr>\n",
       "      <th>1</th>\n",
       "      <td>e</td>\n",
       "      <td>x</td>\n",
       "      <td>s</td>\n",
       "      <td>y</td>\n",
       "      <td>t</td>\n",
       "      <td>a</td>\n",
       "      <td>f</td>\n",
       "      <td>c</td>\n",
       "      <td>b</td>\n",
       "      <td>k</td>\n",
       "      <td>...</td>\n",
       "      <td>s</td>\n",
       "      <td>w</td>\n",
       "      <td>w</td>\n",
       "      <td>p</td>\n",
       "      <td>w</td>\n",
       "      <td>o</td>\n",
       "      <td>p</td>\n",
       "      <td>n</td>\n",
       "      <td>n</td>\n",
       "      <td>g</td>\n",
       "    </tr>\n",
       "    <tr>\n",
       "      <th>2</th>\n",
       "      <td>e</td>\n",
       "      <td>b</td>\n",
       "      <td>s</td>\n",
       "      <td>w</td>\n",
       "      <td>t</td>\n",
       "      <td>l</td>\n",
       "      <td>f</td>\n",
       "      <td>c</td>\n",
       "      <td>b</td>\n",
       "      <td>n</td>\n",
       "      <td>...</td>\n",
       "      <td>s</td>\n",
       "      <td>w</td>\n",
       "      <td>w</td>\n",
       "      <td>p</td>\n",
       "      <td>w</td>\n",
       "      <td>o</td>\n",
       "      <td>p</td>\n",
       "      <td>n</td>\n",
       "      <td>n</td>\n",
       "      <td>m</td>\n",
       "    </tr>\n",
       "    <tr>\n",
       "      <th>3</th>\n",
       "      <td>p</td>\n",
       "      <td>x</td>\n",
       "      <td>y</td>\n",
       "      <td>w</td>\n",
       "      <td>t</td>\n",
       "      <td>p</td>\n",
       "      <td>f</td>\n",
       "      <td>c</td>\n",
       "      <td>n</td>\n",
       "      <td>n</td>\n",
       "      <td>...</td>\n",
       "      <td>s</td>\n",
       "      <td>w</td>\n",
       "      <td>w</td>\n",
       "      <td>p</td>\n",
       "      <td>w</td>\n",
       "      <td>o</td>\n",
       "      <td>p</td>\n",
       "      <td>k</td>\n",
       "      <td>s</td>\n",
       "      <td>u</td>\n",
       "    </tr>\n",
       "    <tr>\n",
       "      <th>4</th>\n",
       "      <td>e</td>\n",
       "      <td>x</td>\n",
       "      <td>s</td>\n",
       "      <td>g</td>\n",
       "      <td>f</td>\n",
       "      <td>n</td>\n",
       "      <td>f</td>\n",
       "      <td>w</td>\n",
       "      <td>b</td>\n",
       "      <td>k</td>\n",
       "      <td>...</td>\n",
       "      <td>s</td>\n",
       "      <td>w</td>\n",
       "      <td>w</td>\n",
       "      <td>p</td>\n",
       "      <td>w</td>\n",
       "      <td>o</td>\n",
       "      <td>e</td>\n",
       "      <td>n</td>\n",
       "      <td>a</td>\n",
       "      <td>g</td>\n",
       "    </tr>\n",
       "  </tbody>\n",
       "</table>\n",
       "<p>5 rows × 23 columns</p>\n",
       "</div>"
      ],
      "text/plain": [
       "  class cap-shape cap-surface cap-color bruises odor gill-attachment  \\\n",
       "0     p         x           s         n       t    p               f   \n",
       "1     e         x           s         y       t    a               f   \n",
       "2     e         b           s         w       t    l               f   \n",
       "3     p         x           y         w       t    p               f   \n",
       "4     e         x           s         g       f    n               f   \n",
       "\n",
       "  gill-spacing gill-size gill-color  ... stalk-surface-below-ring  \\\n",
       "0            c         n          k  ...                        s   \n",
       "1            c         b          k  ...                        s   \n",
       "2            c         b          n  ...                        s   \n",
       "3            c         n          n  ...                        s   \n",
       "4            w         b          k  ...                        s   \n",
       "\n",
       "  stalk-color-above-ring stalk-color-below-ring veil-type veil-color  \\\n",
       "0                      w                      w         p          w   \n",
       "1                      w                      w         p          w   \n",
       "2                      w                      w         p          w   \n",
       "3                      w                      w         p          w   \n",
       "4                      w                      w         p          w   \n",
       "\n",
       "  ring-number ring-type spore-print-color population habitat  \n",
       "0           o         p                 k          s       u  \n",
       "1           o         p                 n          n       g  \n",
       "2           o         p                 n          n       m  \n",
       "3           o         p                 k          s       u  \n",
       "4           o         e                 n          a       g  \n",
       "\n",
       "[5 rows x 23 columns]"
      ]
     },
     "execution_count": 2,
     "metadata": {},
     "output_type": "execute_result"
    }
   ],
   "source": [
    "df = pd.read_csv('mushrooms.csv')\n",
    "df.head()"
   ]
  },
  {
   "cell_type": "markdown",
   "id": "bc7e9a5f",
   "metadata": {},
   "source": [
    "### About the Dataset"
   ]
  },
  {
   "cell_type": "markdown",
   "id": "9f001e64",
   "metadata": {},
   "source": [
    "<table style=\"width:100%\">\n",
    "  <tr>\n",
    "    <th style = 'text-align: left;'>Feature</th>\n",
    "    <th style = 'text-align: left;'>Description</th>\n",
    "    <th style = 'text-align: left;'>Values</th>\n",
    "  </tr>\n",
    "  <tr>\n",
    "    <td style = 'text-align: left;'>class</td>\n",
    "    <td style = 'text-align: left;'>Edibility of the mushroom</td>\n",
    "    <td style = 'text-align: left;'>edible=e, poisonous=p</td>\n",
    "  </tr>\n",
    "  <tr>\n",
    "    <td style = 'text-align: left;'>cap-shape</td>\n",
    "    <td style = 'text-align: left;'>Shape of the mushroom cap</td>\n",
    "    <td style = 'text-align: left;'>bell=b, conical=c, convex=x, flat=f, knobbed=k, sunken=s</td>\n",
    "  </tr>\n",
    "  <tr>\n",
    "    <td style = 'text-align: left;'>cap-surface</td>\n",
    "    <td style = 'text-align: left;'>Surface texture of the mushroom cap</td>\n",
    "    <td style = 'text-align: left;'>fibrous=f, grooves=g, scaly=y, smooth=s</td>\n",
    "  </tr>\n",
    "  <tr>\n",
    "    <td style = 'text-align: left;'>cap-color</td>\n",
    "    <td style = 'text-align: left;'>Color of the mushroom cap</td>\n",
    "    <td style = 'text-align: left;'>brown=n, buff=b, cinnamon=c, gray=g, green=r, pink=p, purple=u, red=e, white=w, yellow=y</td>\n",
    "  </tr>\n",
    "  <tr>\n",
    "    <td style = 'text-align: left;'>bruises</td>\n",
    "    <td style = 'text-align: left;'>Presence of bruises</td>\n",
    "    <td style = 'text-align: left;'>bruises=t, no=f</td>\n",
    "  </tr>\n",
    "  <tr>\n",
    "    <td style = 'text-align: left;'>odor</td>\n",
    "    <td style = 'text-align: left;'>Odor of the mushroom</td>\n",
    "    <td style = 'text-align: left;'>almond=a, anise=l, creosote=c, fishy=y, foul=f, musty=m, none=n, pungent=p, spicy=s</td>\n",
    "  </tr>\n",
    "  <tr>\n",
    "    <td style = 'text-align: left;'>gill-attachment</td>\n",
    "    <td style = 'text-align: left;'>Attachment type of gill to the stalk</td>\n",
    "    <td style = 'text-align: left;'>attached=a, descending=d, free=f, notched=n</td>\n",
    "  </tr>\n",
    "  <tr>\n",
    "    <td style = 'text-align: left;'>gill-spacing</td>\n",
    "    <td style = 'text-align: left;'>Spacing between gills</td>\n",
    "    <td style = 'text-align: left;'>close=c, crowded=w, distant=d</td>\n",
    "  </tr>\n",
    "  <tr>\n",
    "    <td style = 'text-align: left;'>gill-size</td>\n",
    "    <td style = 'text-align: left;'>Size of the gill</td>\n",
    "    <td style = 'text-align: left;'>broad=b, narrow=n</td>\n",
    "  </tr>\n",
    "  <tr>\n",
    "    <td style = 'text-align: left;'>gill-color</td>\n",
    "    <td style = 'text-align: left;'>Color of the gill</td>\n",
    "    <td style = 'text-align: left;'>black=k, brown=n, buff=b, chocolate=h, gray=g, green=r, orange=o, pink=p, purple=u, red=e, white=w, yellow=y</td>\n",
    "  </tr>\n",
    "  <tr>\n",
    "    <td style = 'text-align: left;'>stalk-shape</td>\n",
    "    <td style = 'text-align: left;'>Shape of the stalk</td>\n",
    "    <td style = 'text-align: left;'>enlarging=e, tapering=t</td>\n",
    "  </tr>\n",
    "  <tr>\n",
    "    <td style = 'text-align: left;'>stalk-root</td>\n",
    "    <td style = 'text-align: left;'>Type of root stalk</td>\n",
    "    <td style = 'text-align: left;'>bulbous=b, club=c, cup=u, equal=e, rhizomorphs=z, rooted=r, missing=?</td>\n",
    "  </tr>\n",
    "  <tr>\n",
    "    <td style = 'text-align: left;'>stalk-surface-above-ring</td>\n",
    "    <td style = 'text-align: left;'>Surface texture of the stalk above the ring</td>\n",
    "    <td style = 'text-align: left;'>fibrous=f, scaly=y, silky=k, smooth=s</td>\n",
    "  </tr>\n",
    "  <tr>\n",
    "    <td style = 'text-align: left;'>stalk-surface-below-ring</td>\n",
    "    <td style = 'text-align: left;'>Surface texture of the stalk below the ring</td>\n",
    "    <td style = 'text-align: left;'>fibrous=f, scaly=y, silky=k, smooth=s</td>\n",
    "  </tr>\n",
    "  <tr>\n",
    "    <td style = 'text-align: left;'>stalk-color-above-ring</td>\n",
    "    <td style = 'text-align: left;'>Color of the stalk above the ring</td>\n",
    "    <td style = 'text-align: left;'>brown=n, buff=b, cinnamon=c, gray=g, orange=o, pink=p, red=e, white=w, yellow=y</td>\n",
    "  </tr>\n",
    "  <tr>\n",
    "    <td style = 'text-align: left;'>stalk-color-below-ring</td>\n",
    "    <td style = 'text-align: left;'>Color of the stalk below the ring</td>\n",
    "    <td style = 'text-align: left;'>brown=n, buff=b, cinnamon=c, gray=g, orange=o, pink=p, red=e, white=w, yellow=y</td>\n",
    "  </tr>\n",
    "  <tr>\n",
    "    <td style = 'text-align: left;'>veil-type</td>\n",
    "    <td style = 'text-align: left;'>Type of veil</td>\n",
    "    <td style = 'text-align: left;'>partial=p, universal=u</td>\n",
    "  </tr>\n",
    "  <tr>\n",
    "    <td style = 'text-align: left;'>veil-color</td>\n",
    "    <td style = 'text-align: left;'>Color of the veil</td>\n",
    "    <td style = 'text-align: left;'>brown=n, orange=o, white=w, yellow=y</td>\n",
    "  </tr>\n",
    "  <tr>\n",
    "    <td style = 'text-align: left;'>ring-number</td>\n",
    "    <td style = 'text-align: left;'>Number of rings</td>\n",
    "    <td style = 'text-align: left;'>none=n, one=o, two=t</td>\n",
    "  </tr>\n",
    "  <tr>\n",
    "    <td style = 'text-align: left;'>ring-type</td>\n",
    "    <td style = 'text-align: left;'>Type of ring</td>\n",
    "    <td style = 'text-align: left;'>cobwebby=c, evanescent=e, flaring=f, large=l, none=n, pendant=p, sheathing=s, zone=z</td>\n",
    "  </tr>\n",
    "  <tr>\n",
    "    <td style = 'text-align: left;'>spore-print-color</td>\n",
    "    <td style = 'text-align: left;'>Color of the spore print</td>\n",
    "    <td style = 'text-align: left;'>black=k, brown=n, buff=b, chocolate=h, green=r, orange=o, purple=u, white=w, yellow=y</td>\n",
    "  </tr>\n",
    "  <tr>\n",
    "    <td style = 'text-align: left;'>population</td>\n",
    "    <td style = 'text-align: left;'>Population density</td>\n",
    "    <td style = 'text-align: left;'>abundant=a, clustered=c, numerous=n, scattered=s, several=v, solitary=y</td>\n",
    "  </tr>\n",
    "  <tr>\n",
    "    <td style = 'text-align: left;'>habitat</td>\n",
    "    <td style = 'text-align: left;'>Environment where the mushroom grows</td>\n",
    "    <td style = 'text-align: left;'>grasses=g, leaves=l, meadows=m, paths=p, urban=u, waste=w, woods=d</td>\n",
    "  </tr>\n",
    "</table>"
   ]
  },
  {
   "cell_type": "markdown",
   "id": "835d5db0",
   "metadata": {},
   "source": [
    "#### Drop Unnecessary Columns"
   ]
  },
  {
   "cell_type": "code",
   "execution_count": 3,
   "id": "0a5f52f0",
   "metadata": {},
   "outputs": [
    {
     "name": "stdout",
     "output_type": "stream",
     "text": [
      "class -------------------- 2\n",
      "cap-shape ---------------- 6\n",
      "cap-surface -------------- 4\n",
      "cap-color ---------------- 10\n",
      "bruises ------------------ 2\n",
      "odor --------------------- 9\n",
      "gill-attachment ---------- 2\n",
      "gill-spacing ------------- 2\n",
      "gill-size ---------------- 2\n",
      "gill-color --------------- 12\n",
      "stalk-shape -------------- 2\n",
      "stalk-root --------------- 5\n",
      "stalk-surface-above-ring - 4\n",
      "stalk-surface-below-ring - 4\n",
      "stalk-color-above-ring --- 9\n",
      "stalk-color-below-ring --- 9\n",
      "veil-type ---------------- 1\n",
      "veil-color --------------- 4\n",
      "ring-number -------------- 3\n",
      "ring-type ---------------- 5\n",
      "spore-print-color -------- 9\n",
      "population --------------- 6\n",
      "habitat ------------------ 7\n"
     ]
    }
   ],
   "source": [
    "for col in df.columns:\n",
    "    print(col, '-'*(25-len(col)), df[col].nunique())"
   ]
  },
  {
   "cell_type": "code",
   "execution_count": 4,
   "id": "ddb7048b",
   "metadata": {},
   "outputs": [],
   "source": [
    "# drooping the columns 'veil-type' because it has only one unique value\n",
    "df.drop(['veil-type'], axis=1, inplace=True)\n"
   ]
  },
  {
   "cell_type": "markdown",
   "id": "466bd7c9",
   "metadata": {},
   "source": [
    "### Encoding Features"
   ]
  },
  {
   "cell_type": "code",
   "execution_count": 5,
   "id": "2f9b0fd6",
   "metadata": {},
   "outputs": [
    {
     "data": {
      "text/plain": [
       "Index(['class', 'cap-shape', 'cap-surface', 'cap-color', 'bruises', 'odor',\n",
       "       'gill-attachment', 'gill-spacing', 'gill-size', 'gill-color',\n",
       "       'stalk-shape', 'stalk-root', 'stalk-surface-above-ring',\n",
       "       'stalk-surface-below-ring', 'stalk-color-above-ring',\n",
       "       'stalk-color-below-ring', 'veil-color', 'ring-number', 'ring-type',\n",
       "       'spore-print-color', 'population', 'habitat'],\n",
       "      dtype='object')"
      ]
     },
     "execution_count": 5,
     "metadata": {},
     "output_type": "execute_result"
    }
   ],
   "source": [
    "df.columns"
   ]
  },
  {
   "cell_type": "code",
   "execution_count": 6,
   "id": "916a2feb",
   "metadata": {},
   "outputs": [],
   "source": [
    "ord_cols = ['class', 'bruises']\n",
    "\n",
    "non_ord_cols = ['cap-shape', 'cap-surface', 'cap-color', 'odor',\n",
    "       'gill-attachment', 'gill-spacing', 'gill-size', 'gill-color',\n",
    "       'stalk-shape', 'stalk-root', 'stalk-surface-above-ring',\n",
    "       'stalk-surface-below-ring', 'stalk-color-above-ring',\n",
    "       'stalk-color-below-ring', 'veil-color', 'ring-number',\n",
    "       'ring-type', 'spore-print-color', 'population', 'habitat']"
   ]
  },
  {
   "cell_type": "markdown",
   "id": "dd83feb0",
   "metadata": {},
   "source": [
    "#### Label Encoding"
   ]
  },
  {
   "cell_type": "code",
   "execution_count": 7,
   "id": "c7823654",
   "metadata": {},
   "outputs": [],
   "source": [
    "le = LabelEncoder()\n",
    "\n",
    "for col in ord_cols:\n",
    "    df[col] = le.fit_transform(df[col])\n",
    "    "
   ]
  },
  {
   "cell_type": "markdown",
   "id": "acb9e0aa",
   "metadata": {},
   "source": [
    "#### One-hot Encoding"
   ]
  },
  {
   "cell_type": "code",
   "execution_count": 8,
   "id": "20b48c6c",
   "metadata": {},
   "outputs": [],
   "source": [
    "df = pd.get_dummies(df, columns=non_ord_cols)"
   ]
  },
  {
   "cell_type": "code",
   "execution_count": 9,
   "id": "15bfc90b",
   "metadata": {},
   "outputs": [
    {
     "data": {
      "text/plain": [
       "array([dtype('int64'), dtype('uint8')], dtype=object)"
      ]
     },
     "execution_count": 9,
     "metadata": {},
     "output_type": "execute_result"
    }
   ],
   "source": [
    "df.dtypes.unique()"
   ]
  },
  {
   "cell_type": "markdown",
   "id": "0eed1030",
   "metadata": {},
   "source": [
    "So all the columns are in the int format"
   ]
  },
  {
   "cell_type": "markdown",
   "id": "87d1fc98",
   "metadata": {},
   "source": [
    "### Machine Learning"
   ]
  },
  {
   "cell_type": "markdown",
   "id": "731a616e",
   "metadata": {},
   "source": [
    "#### Getting the Dataset Ready"
   ]
  },
  {
   "cell_type": "code",
   "execution_count": 10,
   "id": "ac85294d",
   "metadata": {},
   "outputs": [],
   "source": [
    "x = df.drop(['class'], axis=1)\n",
    "y = df['class']"
   ]
  },
  {
   "cell_type": "code",
   "execution_count": 11,
   "id": "22e6c224",
   "metadata": {},
   "outputs": [],
   "source": [
    "xtrain, xtest, ytrain, ytest = train_test_split(x, y, test_size=0.3, random_state=2)\n"
   ]
  },
  {
   "cell_type": "markdown",
   "id": "b4eb63f0",
   "metadata": {},
   "source": [
    "#### Training on different Models"
   ]
  },
  {
   "cell_type": "code",
   "execution_count": 12,
   "id": "47a65736",
   "metadata": {},
   "outputs": [],
   "source": [
    "models = {\n",
    "    'Logistic Regression': LogisticRegression(),\n",
    "    'Random Forest': RandomForestClassifier(),\n",
    "    'Gradient Boosting': GradientBoostingClassifier(),\n",
    "    'K-neighbors': KNeighborsClassifier(),\n",
    "    'Gaussian': GaussianNB(),\n",
    "    'Multinomial': MultinomialNB(),\n",
    "    'Support Vector Machine': SVC()\n",
    "}"
   ]
  },
  {
   "cell_type": "code",
   "execution_count": 13,
   "id": "6d9512af",
   "metadata": {},
   "outputs": [
    {
     "name": "stdout",
     "output_type": "stream",
     "text": [
      "Logistic Regression ------ 1.0\n",
      "Random Forest ------------ 1.0\n",
      "Gradient Boosting -------- 1.0\n",
      "K-neighbors -------------- 1.0\n",
      "Gaussian ----------------- 0.9549\n",
      "Multinomial -------------- 0.9438\n",
      "Support Vector Machine --- 1.0\n"
     ]
    }
   ],
   "source": [
    "result = {}\n",
    "\n",
    "for name, model in models.items():\n",
    "    model.fit(xtrain, ytrain)\n",
    "    pred = model.predict(xtest)\n",
    "    score = round(accuracy_score(pred, ytest), 4)\n",
    "    result[name] = score\n",
    "    print(name, '-'*(25-len(name)), score)\n",
    "    "
   ]
  },
  {
   "cell_type": "markdown",
   "id": "09569cce",
   "metadata": {},
   "source": [
    "### Neural Network"
   ]
  },
  {
   "cell_type": "markdown",
   "id": "d26f837d",
   "metadata": {},
   "source": [
    "#### Importing the Libraries"
   ]
  },
  {
   "cell_type": "code",
   "execution_count": 21,
   "id": "363119e0",
   "metadata": {},
   "outputs": [],
   "source": [
    "from tensorflow.keras.layers import Dense, Dropout\n",
    "from tensorflow.keras.models import Sequential\n",
    "from tensorflow.keras import callbacks"
   ]
  },
  {
   "cell_type": "code",
   "execution_count": 17,
   "id": "aa6a6e93",
   "metadata": {},
   "outputs": [],
   "source": [
    "early_stopping = callbacks.EarlyStopping(\n",
    "                min_delta=0.001, \n",
    "                patience = 10,\n",
    "                restore_best_weights=True\n",
    "                )"
   ]
  },
  {
   "cell_type": "code",
   "execution_count": 32,
   "id": "f78ac898",
   "metadata": {},
   "outputs": [
    {
     "data": {
      "text/plain": [
       "115"
      ]
     },
     "execution_count": 32,
     "metadata": {},
     "output_type": "execute_result"
    }
   ],
   "source": [
    "len(xtrain.columns)"
   ]
  },
  {
   "cell_type": "code",
   "execution_count": 27,
   "id": "119f3d4a",
   "metadata": {},
   "outputs": [],
   "source": [
    "# Initializing the NN\n",
    "model = Sequential()\n",
    "\n",
    "model.add(Dense(units = 120, activation='relu', input_dim=115))\n",
    "\n",
    "model.add(Dense(units = 100, activation='relu'))\n",
    "\n",
    "model.add(Dropout(0.25))\n",
    "\n",
    "model.add(Dense(units = 50, activation= 'relu'))\n",
    "\n",
    "model.add(Dropout(0.5))\n",
    "\n",
    "model.add(Dense(units=1, activation='sigmoid'))\n",
    "\n"
   ]
  },
  {
   "cell_type": "code",
   "execution_count": 28,
   "id": "e7dfa002",
   "metadata": {},
   "outputs": [],
   "source": [
    "model.compile(optimizer='adam', \n",
    "             loss = 'binary_crossentropy',\n",
    "             metrics = ['accuracy'])"
   ]
  },
  {
   "cell_type": "code",
   "execution_count": 29,
   "id": "6652f5d5",
   "metadata": {
    "scrolled": true
   },
   "outputs": [
    {
     "name": "stdout",
     "output_type": "stream",
     "text": [
      "Epoch 1/100\n",
      "455/455 [==============================] - 2s 3ms/step - loss: 0.0757 - accuracy: 0.9690 - val_loss: 0.0010 - val_accuracy: 0.9991\n",
      "Epoch 2/100\n",
      "455/455 [==============================] - 1s 2ms/step - loss: 9.7877e-04 - accuracy: 1.0000 - val_loss: 1.4367e-04 - val_accuracy: 1.0000\n",
      "Epoch 3/100\n",
      "455/455 [==============================] - 1s 2ms/step - loss: 3.5661e-04 - accuracy: 1.0000 - val_loss: 2.5966e-05 - val_accuracy: 1.0000\n",
      "Epoch 4/100\n",
      "455/455 [==============================] - 1s 2ms/step - loss: 4.2472e-04 - accuracy: 1.0000 - val_loss: 3.9296e-06 - val_accuracy: 1.0000\n",
      "Epoch 5/100\n",
      "455/455 [==============================] - 1s 2ms/step - loss: 1.2204e-04 - accuracy: 1.0000 - val_loss: 8.2678e-06 - val_accuracy: 1.0000\n",
      "Epoch 6/100\n",
      "455/455 [==============================] - 1s 2ms/step - loss: 7.6716e-05 - accuracy: 1.0000 - val_loss: 1.9818e-06 - val_accuracy: 1.0000\n",
      "Epoch 7/100\n",
      "455/455 [==============================] - 1s 2ms/step - loss: 2.3839e-05 - accuracy: 1.0000 - val_loss: 1.5777e-06 - val_accuracy: 1.0000\n",
      "Epoch 8/100\n",
      "455/455 [==============================] - 1s 2ms/step - loss: 2.6339e-05 - accuracy: 1.0000 - val_loss: 3.9753e-07 - val_accuracy: 1.0000\n",
      "Epoch 9/100\n",
      "455/455 [==============================] - 1s 2ms/step - loss: 5.5333e-06 - accuracy: 1.0000 - val_loss: 3.7864e-07 - val_accuracy: 1.0000\n",
      "Epoch 10/100\n",
      "455/455 [==============================] - 1s 2ms/step - loss: 1.2452e-05 - accuracy: 1.0000 - val_loss: 5.4391e-07 - val_accuracy: 1.0000\n",
      "Epoch 11/100\n",
      "455/455 [==============================] - 1s 2ms/step - loss: 1.0380e-05 - accuracy: 1.0000 - val_loss: 1.1300e-07 - val_accuracy: 1.0000\n",
      "Epoch 12/100\n",
      "455/455 [==============================] - 1s 2ms/step - loss: 7.2527e-06 - accuracy: 1.0000 - val_loss: 8.9218e-08 - val_accuracy: 1.0000\n",
      "Epoch 13/100\n",
      "455/455 [==============================] - 1s 2ms/step - loss: 3.4856e-06 - accuracy: 1.0000 - val_loss: 1.1593e-07 - val_accuracy: 1.0000\n"
     ]
    }
   ],
   "source": [
    "history = model.fit(xtrain, ytrain,\n",
    "                   batch_size = 10,\n",
    "                   callbacks = [early_stopping],\n",
    "                   epochs = 100, \n",
    "                   validation_split = 0.2)"
   ]
  },
  {
   "cell_type": "code",
   "execution_count": 30,
   "id": "883e78a4",
   "metadata": {
    "scrolled": true
   },
   "outputs": [
    {
     "data": {
      "image/png": "[encoded data removed]",
      "text/plain": [
       "<Figure size 640x480 with 1 Axes>"
      ]
     },
     "metadata": {},
     "output_type": "display_data"
    }
   ],
   "source": [
    "history_df = pd.DataFrame(history.history)\n",
    "\n",
    "plt.plot(history_df.loc[:, ['accuracy']], \"#BDE2E2\", label='Training accuracy')\n",
    "plt.plot(history_df.loc[:, ['val_accuracy']], \"#C2C4E2\", label='Validation accuracy')\n",
    "\n",
    "plt.title('Training and Validation accuracy')\n",
    "plt.xlabel('Epochs')\n",
    "plt.ylabel('Accuracy')\n",
    "plt.legend()\n",
    "plt.show()"
   ]
  },
  {
   "cell_type": "code",
   "execution_count": 31,
   "id": "eb22e8c2",
   "metadata": {},
   "outputs": [
    {
     "data": {
      "text/plain": [
       "1.0"
      ]
     },
     "execution_count": 31,
     "metadata": {},
     "output_type": "execute_result"
    }
   ],
   "source": [
    "model.predict(xtest)\n",
    "score = accuracy_score(pred, ytest)\n",
    "score"
   ]
  }
 ],
 "metadata": {
  "kernelspec": {
   "display_name": "Python 3 (ipykernel)",
   "language": "python",
   "name": "python3"
  },
  "language_info": {
   "codemirror_mode": {
    "name": "ipython",
    "version": 3
   },
   "file_extension": ".py",
   "mimetype": "text/x-python",
   "name": "python",
   "nbconvert_exporter": "python",
   "pygments_lexer": "ipython3",
   "version": "3.7.13"
  }
 },
 "nbformat": 4,
 "nbformat_minor": 5
}
