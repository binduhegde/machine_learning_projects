{
 "cells": [
  {
   "cell_type": "markdown",
   "id": "9197af6e",
   "metadata": {},
   "source": [
    "<p style=\"background: linear-gradient(to right,#FF407D,white);\n",
    "          color: transparent;\n",
    "          font-family: Georgia;\n",
    "          color: white;\n",
    "          font-size: 80%;\n",
    "          text-align: left;\n",
    "          padding: 8px;\n",
    "          letter-spacing:1px;\">\n",
    "   Accuracy in the end: 76% \n",
    "</p>"
   ]
  },
  {
   "cell_type": "markdown",
   "id": "f0eb97b4",
   "metadata": {},
   "source": [
    "<p style=\"background: linear-gradient(to right,#4793AF,white);\n",
    "          color: transparent;\n",
    "          font-family: Georgia;\n",
    "          color: white;\n",
    "          font-size: 120%;\n",
    "          text-align: left;\n",
    "          padding: 15px;\n",
    "          letter-spacing:1px;\">\n",
    "   Table of Content \n",
    "</p>"
   ]
  },
  {
   "cell_type": "markdown",
   "id": "9b8fa5ab",
   "metadata": {},
   "source": [
    "1. Importing Libraries\n",
    "2. Loading the Dataset\n",
    "3. About the Dataset\n",
    "4. Understanding the Dataset\n",
    "5. Feature Engineering\n",
    "    - Creating New Features\n",
    "6. Exploratory Data Analysis\n",
    "    - Frequency Distribution\n",
    "7. Data Preprocessing\n",
    "    - Handling Missing Values\n",
    "    - Log Transformation\n",
    "    - Feature Encoding\n",
    "    - Creating training and testing sets\n",
    "8. Machine Learning\n",
    "    - Training with un-scaled features\n",
    "    - Training with scaled features\n",
    "    - Models' Performance Comparision\n",
    "    - Hyperparameter Tuning\n",
    "9. Conclusion"
   ]
  },
  {
   "cell_type": "markdown",
   "id": "c2c3b461",
   "metadata": {},
   "source": [
    "<p style=\"background: linear-gradient(to right,#4793AF,white);\n",
    "          color: transparent;\n",
    "          font-family: Georgia;\n",
    "          color: white;\n",
    "          font-size: 120%;\n",
    "          text-align: left;\n",
    "          padding: 15px;\n",
    "          letter-spacing:1px;\">\n",
    "   1. Importing Libraries \n",
    "</p>"
   ]
  },
  {
   "cell_type": "code",
   "execution_count": 1,
   "id": "9dcb6e13",
   "metadata": {},
   "outputs": [],
   "source": [
    "import pandas as pd\n",
    "pd.set_option('display.max_columns', None)\n",
    "import numpy as np\n",
    "import matplotlib.pyplot as plt\n",
    "import seaborn as sns\n",
    "\n",
    "import warnings\n",
    "warnings.filterwarnings('ignore')\n",
    "\n",
    "from sklearn.impute import SimpleImputer\n",
    "from sklearn.model_selection import train_test_split, GridSearchCV, RandomizedSearchCV\n",
    "from sklearn.metrics import accuracy_score\n",
    "from sklearn.preprocessing import LabelEncoder, StandardScaler,\n",
    "\n",
    "from sklearn.svm import SVC\n",
    "from sklearn.naive_bayes import GaussianNB\n",
    "from sklearn.linear_model import LogisticRegression\n",
    "from sklearn.neighbors import KNeighborsClassifier\n",
    "from sklearn.tree import DecisionTreeClassifier\n",
    "from sklearn.ensemble import RandomForestClassifier, GradientBoostingClassifier, AdaBoostClassifier, StackingClassifier\n",
    "from lightgbm import LGBMClassifier"
   ]
  },
  {
   "cell_type": "markdown",
   "id": "64b3a4ab",
   "metadata": {},
   "source": [
    "<p style=\"background: linear-gradient(to right,#4793AF,white);\n",
    "          color: transparent;\n",
    "          font-family: Georgia;\n",
    "          color: white;\n",
    "          font-size: 120%;\n",
    "          text-align: left;\n",
    "          padding: 15px;\n",
    "          letter-spacing:1px;\">\n",
    "   2. Loading the Dataset \n",
    "</p>"
   ]
  },
  {
   "cell_type": "code",
   "execution_count": 2,
   "id": "4ecbea84",
   "metadata": {},
   "outputs": [
    {
     "data": {
      "text/html": [
       "<div>\n",
       "<style scoped>\n",
       "    .dataframe tbody tr th:only-of-type {\n",
       "        vertical-align: middle;\n",
       "    }\n",
       "\n",
       "    .dataframe tbody tr th {\n",
       "        vertical-align: top;\n",
       "    }\n",
       "\n",
       "    .dataframe thead th {\n",
       "        text-align: right;\n",
       "    }\n",
       "</style>\n",
       "<table border=\"1\" class=\"dataframe\">\n",
       "  <thead>\n",
       "    <tr style=\"text-align: right;\">\n",
       "      <th></th>\n",
       "      <th>PassengerId</th>\n",
       "      <th>HomePlanet</th>\n",
       "      <th>CryoSleep</th>\n",
       "      <th>Cabin</th>\n",
       "      <th>Destination</th>\n",
       "      <th>Age</th>\n",
       "      <th>VIP</th>\n",
       "      <th>RoomService</th>\n",
       "      <th>FoodCourt</th>\n",
       "      <th>ShoppingMall</th>\n",
       "      <th>Spa</th>\n",
       "      <th>VRDeck</th>\n",
       "      <th>Name</th>\n",
       "      <th>Transported</th>\n",
       "    </tr>\n",
       "  </thead>\n",
       "  <tbody>\n",
       "    <tr>\n",
       "      <th>0</th>\n",
       "      <td>0001_01</td>\n",
       "      <td>Europa</td>\n",
       "      <td>False</td>\n",
       "      <td>B/0/P</td>\n",
       "      <td>TRAPPIST-1e</td>\n",
       "      <td>39.0</td>\n",
       "      <td>False</td>\n",
       "      <td>0.0</td>\n",
       "      <td>0.0</td>\n",
       "      <td>0.0</td>\n",
       "      <td>0.0</td>\n",
       "      <td>0.0</td>\n",
       "      <td>Maham Ofracculy</td>\n",
       "      <td>False</td>\n",
       "    </tr>\n",
       "    <tr>\n",
       "      <th>1</th>\n",
       "      <td>0002_01</td>\n",
       "      <td>Earth</td>\n",
       "      <td>False</td>\n",
       "      <td>F/0/S</td>\n",
       "      <td>TRAPPIST-1e</td>\n",
       "      <td>24.0</td>\n",
       "      <td>False</td>\n",
       "      <td>109.0</td>\n",
       "      <td>9.0</td>\n",
       "      <td>25.0</td>\n",
       "      <td>549.0</td>\n",
       "      <td>44.0</td>\n",
       "      <td>Juanna Vines</td>\n",
       "      <td>True</td>\n",
       "    </tr>\n",
       "    <tr>\n",
       "      <th>2</th>\n",
       "      <td>0003_01</td>\n",
       "      <td>Europa</td>\n",
       "      <td>False</td>\n",
       "      <td>A/0/S</td>\n",
       "      <td>TRAPPIST-1e</td>\n",
       "      <td>58.0</td>\n",
       "      <td>True</td>\n",
       "      <td>43.0</td>\n",
       "      <td>3576.0</td>\n",
       "      <td>0.0</td>\n",
       "      <td>6715.0</td>\n",
       "      <td>49.0</td>\n",
       "      <td>Altark Susent</td>\n",
       "      <td>False</td>\n",
       "    </tr>\n",
       "    <tr>\n",
       "      <th>3</th>\n",
       "      <td>0003_02</td>\n",
       "      <td>Europa</td>\n",
       "      <td>False</td>\n",
       "      <td>A/0/S</td>\n",
       "      <td>TRAPPIST-1e</td>\n",
       "      <td>33.0</td>\n",
       "      <td>False</td>\n",
       "      <td>0.0</td>\n",
       "      <td>1283.0</td>\n",
       "      <td>371.0</td>\n",
       "      <td>3329.0</td>\n",
       "      <td>193.0</td>\n",
       "      <td>Solam Susent</td>\n",
       "      <td>False</td>\n",
       "    </tr>\n",
       "    <tr>\n",
       "      <th>4</th>\n",
       "      <td>0004_01</td>\n",
       "      <td>Earth</td>\n",
       "      <td>False</td>\n",
       "      <td>F/1/S</td>\n",
       "      <td>TRAPPIST-1e</td>\n",
       "      <td>16.0</td>\n",
       "      <td>False</td>\n",
       "      <td>303.0</td>\n",
       "      <td>70.0</td>\n",
       "      <td>151.0</td>\n",
       "      <td>565.0</td>\n",
       "      <td>2.0</td>\n",
       "      <td>Willy Santantines</td>\n",
       "      <td>True</td>\n",
       "    </tr>\n",
       "  </tbody>\n",
       "</table>\n",
       "</div>"
      ],
      "text/plain": [
       "  PassengerId HomePlanet CryoSleep  Cabin  Destination   Age    VIP  \\\n",
       "0     0001_01     Europa     False  B/0/P  TRAPPIST-1e  39.0  False   \n",
       "1     0002_01      Earth     False  F/0/S  TRAPPIST-1e  24.0  False   \n",
       "2     0003_01     Europa     False  A/0/S  TRAPPIST-1e  58.0   True   \n",
       "3     0003_02     Europa     False  A/0/S  TRAPPIST-1e  33.0  False   \n",
       "4     0004_01      Earth     False  F/1/S  TRAPPIST-1e  16.0  False   \n",
       "\n",
       "   RoomService  FoodCourt  ShoppingMall     Spa  VRDeck               Name  \\\n",
       "0          0.0        0.0           0.0     0.0     0.0    Maham Ofracculy   \n",
       "1        109.0        9.0          25.0   549.0    44.0       Juanna Vines   \n",
       "2         43.0     3576.0           0.0  6715.0    49.0      Altark Susent   \n",
       "3          0.0     1283.0         371.0  3329.0   193.0       Solam Susent   \n",
       "4        303.0       70.0         151.0   565.0     2.0  Willy Santantines   \n",
       "\n",
       "   Transported  \n",
       "0        False  \n",
       "1         True  \n",
       "2        False  \n",
       "3        False  \n",
       "4         True  "
      ]
     },
     "execution_count": 2,
     "metadata": {},
     "output_type": "execute_result"
    }
   ],
   "source": [
    "df = pd.read_csv('train.csv')\n",
    "df.head()"
   ]
  },
  {
   "cell_type": "markdown",
   "id": "6759c51a",
   "metadata": {},
   "source": [
    "<p style=\"background: linear-gradient(to right,#4793AF,white);\n",
    "          color: transparent;\n",
    "          font-family: Georgia;\n",
    "          color: white;\n",
    "          font-size: 120%;\n",
    "          text-align: left;\n",
    "          padding: 15px;\n",
    "          letter-spacing:1px;\">\n",
    "   3. About the Dataset\n",
    "</p>"
   ]
  },
  {
   "cell_type": "markdown",
   "id": "5f760a6f",
   "metadata": {},
   "source": [
    "Welcome to the year 2912, where your data science skills are needed to solve a cosmic mystery. We've received a transmission from four lightyears away and things aren't looking good.\n",
    "\n",
    "The Spaceship Titanic was an interstellar passenger liner launched a month ago. With almost 13,000 passengers on board, the vessel set out on its maiden voyage transporting emigrants from our solar system to three newly habitable exoplanets orbiting nearby stars.\n",
    "\n",
    "While rounding Alpha Centauri en route to its first destination—the torrid 55 Cancri E—the unwary Spaceship Titanic collided with a spacetime anomaly hidden within a dust cloud. Sadly, it met a similar fate as its namesake from 1000 years before. Though the ship stayed intact, almost half of the passengers were transported to an alternate dimension!\n",
    "\n",
    "To help rescue crews and retrieve the lost passengers, you are challenged to predict which passengers were transported by the anomaly using records recovered from the spaceship’s damaged computer system.\n"
   ]
  },
  {
   "cell_type": "markdown",
   "id": "6957430e",
   "metadata": {},
   "source": [
    "<img src=\"https://storage.googleapis.com/kaggle-media/competitions/Spaceship%20Titanic/joel-filipe-QwoNAhbmLLo-unsplash.jpg\"></img>\n"
   ]
  },
  {
   "cell_type": "markdown",
   "id": "e1b2010f",
   "metadata": {},
   "source": [
    "\n",
    "<table style = 'width: 100%;'>\n",
    "  <tr>\n",
    "    <th style = 'text-align: center;\n",
    "                background: white;\n",
    "                border: solid black 1px;'>Feature</th>\n",
    "    <th style = 'text-align: center;\n",
    "                background: white;\n",
    "                border: solid black 1px;'>Values</th>\n",
    "  </tr>\n",
    "  <tr>\n",
    "        <td style = 'text-align: center;\n",
    "                        font-weight: 700;\n",
    "                        background: white;\n",
    "                        border: solid black 1px;'>\n",
    "                        train.csv</td>\n",
    "        <td style = 'text-align: left;\n",
    "                        background: white;\n",
    "                        border: solid black 1px;'>\n",
    "                        Personal records for about two-thirds (~ 8700) of the passengers, to be used as training data.</td>\n",
    "        </tr>\n",
    "  <tr>\n",
    "        <td style = 'text-align: center;\n",
    "                        font-weight: 700;\n",
    "                        background: white;\n",
    "                        border: solid black 1px;'>\n",
    "                        PassengerId</td>\n",
    "        <td style = 'text-align: left;\n",
    "                        background: white;\n",
    "                        border: solid black 1px;'>\n",
    "                        A unique Id for each passenger. Each Id takes the form gggg_pp where gggg indicates a group the passenger is travelling with and pp is their number within the group. People in a group are often family members, but not always.</td>\n",
    "        </tr>\n",
    "  <tr>\n",
    "        <td style = 'text-align: center;\n",
    "                        font-weight: 700;\n",
    "                        background: white;\n",
    "                        border: solid black 1px;'>\n",
    "                        HomePlanet</td>\n",
    "        <td style = 'text-align: left;\n",
    "                        background: white;\n",
    "                        border: solid black 1px;'>\n",
    "                        The planet the passenger departed from, typically their planet of permanent residence.</td>\n",
    "        </tr>\n",
    "  <tr>\n",
    "        <td style = 'text-align: center;\n",
    "                        font-weight: 700;\n",
    "                        background: white;\n",
    "                        border: solid black 1px;'>\n",
    "                        CryoSleep</td>\n",
    "        <td style = 'text-align: left;\n",
    "                        background: white;\n",
    "                        border: solid black 1px;'>\n",
    "                        Indicates whether the passenger elected to be put into suspended animation for the duration of the voyage. Passengers in cryosleep are confined to their cabins.</td>\n",
    "        </tr>\n",
    "  <tr>\n",
    "        <td style = 'text-align: center;\n",
    "                        font-weight: 700;\n",
    "                        background: white;\n",
    "                        border: solid black 1px;'>\n",
    "                        Cabin</td>\n",
    "        <td style = 'text-align: left;\n",
    "                        background: white;\n",
    "                        border: solid black 1px;'>\n",
    "                        The cabin number where the passenger is staying. Takes the form deck/num/side, where side can be either P for Port or S for Starboard.</td>\n",
    "        </tr>\n",
    "  <tr>\n",
    "        <td style = 'text-align: center;\n",
    "                        font-weight: 700;\n",
    "                        background: white;\n",
    "                        border: solid black 1px;'>\n",
    "                        Destination</td>\n",
    "        <td style = 'text-align: left;\n",
    "                        background: white;\n",
    "                        border: solid black 1px;'>\n",
    "                        The planet the passenger will be debarking to.</td>\n",
    "        </tr>\n",
    "  <tr>\n",
    "        <td style = 'text-align: center;\n",
    "                        font-weight: 700;\n",
    "                        background: white;\n",
    "                        border: solid black 1px;'>\n",
    "                        Age</td>\n",
    "        <td style = 'text-align: left;\n",
    "                        background: white;\n",
    "                        border: solid black 1px;'>\n",
    "                        The age of the passenger.</td>\n",
    "        </tr>\n",
    "  <tr>\n",
    "        <td style = 'text-align: center;\n",
    "                        font-weight: 700;\n",
    "                        background: white;\n",
    "                        border: solid black 1px;'>\n",
    "                        VIP</td>\n",
    "        <td style = 'text-align: left;\n",
    "                        background: white;\n",
    "                        border: solid black 1px;'>\n",
    "                        Whether the passenger has paid for special VIP service during the voyage.</td>\n",
    "        </tr>\n",
    "  <tr>\n",
    "        <td style = 'text-align: center;\n",
    "                        font-weight: 700;\n",
    "                        background: white;\n",
    "                        border: solid black 1px;'>\n",
    "                        RoomService, FoodCourt, ShoppingMall, Spa, VRDeck</td>\n",
    "        <td style = 'text-align: left;\n",
    "                        background: white;\n",
    "                        border: solid black 1px;'>\n",
    "                        Amount the passenger has billed at each of the Spaceship Titanic's many luxury amenities.</td>\n",
    "        </tr>\n",
    "  <tr>\n",
    "        <td style = 'text-align: center;\n",
    "                        font-weight: 700;\n",
    "                        background: white;\n",
    "                        border: solid black 1px;'>\n",
    "                        Name</td>\n",
    "        <td style = 'text-align: left;\n",
    "                        background: white;\n",
    "                        border: solid black 1px;'>\n",
    "                        The first and last names of the passenger.</td>\n",
    "        </tr>\n",
    "  <tr>\n",
    "        <td style = 'text-align: center;\n",
    "                        font-weight: 700;\n",
    "                        background: white;\n",
    "                        border: solid black 1px;'>\n",
    "                        Transported</td>\n",
    "        <td style = 'text-align: left;\n",
    "                        background: white;\n",
    "                        border: solid black 1px;'>\n",
    "                        Whether the passenger was transported to another dimension. This is the target, the column you are trying to predict.</td>\n",
    "        </tr>\n",
    "  <tr>\n",
    "        <td style = 'text-align: center;\n",
    "                        font-weight: 700;\n",
    "                        background: white;\n",
    "                        border: solid black 1px;'>\n",
    "                        test.csv</td>\n",
    "        <td style = 'text-align: left;\n",
    "                        background: white;\n",
    "                        border: solid black 1px;'>\n",
    "                        Personal records for the remaining one-third (~4300) of the passengers, to be used as test data. Your task is to predict the value of Transported for the passengers in this set.</td>\n",
    "        </tr>\n",
    "</table>"
   ]
  },
  {
   "cell_type": "markdown",
   "id": "9e581d24",
   "metadata": {},
   "source": [
    "<p style=\"background: linear-gradient(to right,#4793AF,white);\n",
    "          color: transparent;\n",
    "          font-family: Georgia;\n",
    "          color: white;\n",
    "          font-size: 120%;\n",
    "          text-align: left;\n",
    "          padding: 15px;\n",
    "          letter-spacing:1px;\">\n",
    "   4. Understanding the Dataset\n",
    "</p>"
   ]
  },
  {
   "cell_type": "code",
   "execution_count": 3,
   "id": "35ff228a",
   "metadata": {},
   "outputs": [],
   "source": [
    "# dropping the name column because it's useless\n",
    "df.drop(['Name'], axis=1, inplace=True)\n",
    "\n"
   ]
  },
  {
   "cell_type": "code",
   "execution_count": 4,
   "id": "bd2ec8fe",
   "metadata": {},
   "outputs": [
    {
     "data": {
      "text/plain": [
       "(8693, 13)"
      ]
     },
     "execution_count": 4,
     "metadata": {},
     "output_type": "execute_result"
    }
   ],
   "source": [
    "df.shape"
   ]
  },
  {
   "cell_type": "code",
   "execution_count": 5,
   "id": "377c9256",
   "metadata": {},
   "outputs": [
    {
     "data": {
      "text/html": [
       "<div>\n",
       "<style scoped>\n",
       "    .dataframe tbody tr th:only-of-type {\n",
       "        vertical-align: middle;\n",
       "    }\n",
       "\n",
       "    .dataframe tbody tr th {\n",
       "        vertical-align: top;\n",
       "    }\n",
       "\n",
       "    .dataframe thead th {\n",
       "        text-align: right;\n",
       "    }\n",
       "</style>\n",
       "<table border=\"1\" class=\"dataframe\">\n",
       "  <thead>\n",
       "    <tr style=\"text-align: right;\">\n",
       "      <th></th>\n",
       "      <th>Age</th>\n",
       "      <th>RoomService</th>\n",
       "      <th>FoodCourt</th>\n",
       "      <th>ShoppingMall</th>\n",
       "      <th>Spa</th>\n",
       "      <th>VRDeck</th>\n",
       "    </tr>\n",
       "  </thead>\n",
       "  <tbody>\n",
       "    <tr>\n",
       "      <th>count</th>\n",
       "      <td>8514.000000</td>\n",
       "      <td>8512.000000</td>\n",
       "      <td>8510.000000</td>\n",
       "      <td>8485.000000</td>\n",
       "      <td>8510.000000</td>\n",
       "      <td>8505.000000</td>\n",
       "    </tr>\n",
       "    <tr>\n",
       "      <th>mean</th>\n",
       "      <td>28.827930</td>\n",
       "      <td>224.687617</td>\n",
       "      <td>458.077203</td>\n",
       "      <td>173.729169</td>\n",
       "      <td>311.138778</td>\n",
       "      <td>304.854791</td>\n",
       "    </tr>\n",
       "    <tr>\n",
       "      <th>std</th>\n",
       "      <td>14.489021</td>\n",
       "      <td>666.717663</td>\n",
       "      <td>1611.489240</td>\n",
       "      <td>604.696458</td>\n",
       "      <td>1136.705535</td>\n",
       "      <td>1145.717189</td>\n",
       "    </tr>\n",
       "    <tr>\n",
       "      <th>min</th>\n",
       "      <td>0.000000</td>\n",
       "      <td>0.000000</td>\n",
       "      <td>0.000000</td>\n",
       "      <td>0.000000</td>\n",
       "      <td>0.000000</td>\n",
       "      <td>0.000000</td>\n",
       "    </tr>\n",
       "    <tr>\n",
       "      <th>25%</th>\n",
       "      <td>19.000000</td>\n",
       "      <td>0.000000</td>\n",
       "      <td>0.000000</td>\n",
       "      <td>0.000000</td>\n",
       "      <td>0.000000</td>\n",
       "      <td>0.000000</td>\n",
       "    </tr>\n",
       "    <tr>\n",
       "      <th>50%</th>\n",
       "      <td>27.000000</td>\n",
       "      <td>0.000000</td>\n",
       "      <td>0.000000</td>\n",
       "      <td>0.000000</td>\n",
       "      <td>0.000000</td>\n",
       "      <td>0.000000</td>\n",
       "    </tr>\n",
       "    <tr>\n",
       "      <th>75%</th>\n",
       "      <td>38.000000</td>\n",
       "      <td>47.000000</td>\n",
       "      <td>76.000000</td>\n",
       "      <td>27.000000</td>\n",
       "      <td>59.000000</td>\n",
       "      <td>46.000000</td>\n",
       "    </tr>\n",
       "    <tr>\n",
       "      <th>max</th>\n",
       "      <td>79.000000</td>\n",
       "      <td>14327.000000</td>\n",
       "      <td>29813.000000</td>\n",
       "      <td>23492.000000</td>\n",
       "      <td>22408.000000</td>\n",
       "      <td>24133.000000</td>\n",
       "    </tr>\n",
       "  </tbody>\n",
       "</table>\n",
       "</div>"
      ],
      "text/plain": [
       "               Age   RoomService     FoodCourt  ShoppingMall           Spa  \\\n",
       "count  8514.000000   8512.000000   8510.000000   8485.000000   8510.000000   \n",
       "mean     28.827930    224.687617    458.077203    173.729169    311.138778   \n",
       "std      14.489021    666.717663   1611.489240    604.696458   1136.705535   \n",
       "min       0.000000      0.000000      0.000000      0.000000      0.000000   \n",
       "25%      19.000000      0.000000      0.000000      0.000000      0.000000   \n",
       "50%      27.000000      0.000000      0.000000      0.000000      0.000000   \n",
       "75%      38.000000     47.000000     76.000000     27.000000     59.000000   \n",
       "max      79.000000  14327.000000  29813.000000  23492.000000  22408.000000   \n",
       "\n",
       "             VRDeck  \n",
       "count   8505.000000  \n",
       "mean     304.854791  \n",
       "std     1145.717189  \n",
       "min        0.000000  \n",
       "25%        0.000000  \n",
       "50%        0.000000  \n",
       "75%       46.000000  \n",
       "max    24133.000000  "
      ]
     },
     "execution_count": 5,
     "metadata": {},
     "output_type": "execute_result"
    }
   ],
   "source": [
    "df.describe()"
   ]
  },
  {
   "cell_type": "markdown",
   "id": "8e4d7ab2",
   "metadata": {},
   "source": [
    "Min age is 0 which can't be possible"
   ]
  },
  {
   "cell_type": "code",
   "execution_count": 6,
   "id": "85d3f1f2",
   "metadata": {},
   "outputs": [
    {
     "data": {
      "text/plain": [
       "178"
      ]
     },
     "execution_count": 6,
     "metadata": {},
     "output_type": "execute_result"
    }
   ],
   "source": [
    "(df['Age'] == 0).sum()"
   ]
  },
  {
   "cell_type": "code",
   "execution_count": 7,
   "id": "cfb025ed",
   "metadata": {},
   "outputs": [
    {
     "data": {
      "text/plain": [
       "PassengerId       0\n",
       "HomePlanet      201\n",
       "CryoSleep       217\n",
       "Cabin           199\n",
       "Destination     182\n",
       "Age             179\n",
       "VIP             203\n",
       "RoomService     181\n",
       "FoodCourt       183\n",
       "ShoppingMall    208\n",
       "Spa             183\n",
       "VRDeck          188\n",
       "Transported       0\n",
       "dtype: int64"
      ]
     },
     "execution_count": 7,
     "metadata": {},
     "output_type": "execute_result"
    }
   ],
   "source": [
    "df.isnull().sum()"
   ]
  },
  {
   "cell_type": "markdown",
   "id": "4a777ad2",
   "metadata": {},
   "source": [
    "Lots of missing values. Let's fix it a little later"
   ]
  },
  {
   "cell_type": "markdown",
   "id": "cb087532",
   "metadata": {},
   "source": [
    "<p style=\"background: linear-gradient(to right,#4793AF,white);\n",
    "          color: transparent;\n",
    "          font-family: Georgia;\n",
    "          color: white;\n",
    "          font-size: 120%;\n",
    "          text-align: left;\n",
    "          padding: 15px;\n",
    "          letter-spacing:1px;\">\n",
    "   5. Feature Engineering\n",
    "</p>"
   ]
  },
  {
   "cell_type": "code",
   "execution_count": 8,
   "id": "8f7444a3",
   "metadata": {},
   "outputs": [
    {
     "name": "stdout",
     "output_type": "stream",
     "text": [
      "PassengerId --------- 8693\n",
      "HomePlanet ---------- 3\n",
      "CryoSleep ----------- 2\n",
      "Cabin --------------- 6560\n",
      "Destination --------- 3\n",
      "Age ----------------- 80\n",
      "VIP ----------------- 2\n",
      "RoomService --------- 1273\n",
      "FoodCourt ----------- 1507\n",
      "ShoppingMall -------- 1115\n",
      "Spa ----------------- 1327\n",
      "VRDeck -------------- 1306\n",
      "Transported --------- 2\n"
     ]
    }
   ],
   "source": [
    "# number of unique values in each column\n",
    "for col in df.columns:\n",
    "    print(col, '-' * (20-len(col)), df[col].nunique())"
   ]
  },
  {
   "cell_type": "markdown",
   "id": "94dda5f4",
   "metadata": {},
   "source": [
    "Cabin is a categorical features which has like 6500 unique items. So we gotta take care of that. Also we have to take care of the Passenger_Id because with its current state, it's useless"
   ]
  },
  {
   "cell_type": "markdown",
   "id": "fe1fee74",
   "metadata": {},
   "source": [
    "<div style=\"display: flex; \n",
    "            align-items: center;\">\n",
    "  <div style=\"width: 30px; \n",
    "              height: 40px; \n",
    "              background-color: #4793AF;\n",
    "              color: white;\n",
    "              font-size: 70%;\n",
    "              text-align: center;\n",
    "              padding-top: 10px;\">\n",
    "      FE\n",
    "  </div>\n",
    "  <p style=\"background: linear-gradient(to right,#FC819E,white);\n",
    "            color: transparent;\n",
    "            font-family: Georgia;\n",
    "            color: white;\n",
    "            font-size: 100%;\n",
    "            text-align: left;\n",
    "            padding: 10px;\n",
    "            width: 100%;\n",
    "            letter-spacing:1px;\n",
    "            margin: 0;\">\n",
    "      Creating New Features\n",
    "  </p>\n",
    "</div>\n"
   ]
  },
  {
   "cell_type": "markdown",
   "id": "a2fdbde5",
   "metadata": {},
   "source": [
    "<div style=\"display: flex; \n",
    "            align-items: center;\">\n",
    "  <p style=\"background: linear-gradient(to right,#FFE6E6,white);\n",
    "            color: transparent;\n",
    "            font-family: Georgia;\n",
    "            color: black;\n",
    "            font-size: 80%;\n",
    "            text-align: left;\n",
    "            padding: 5px;\n",
    "            padding-left: 10px;\n",
    "            width: 1000%;\n",
    "            letter-spacing:1px;\n",
    "            margin: 0px;\">\n",
    "      PassengerId feature\n",
    "  </p>\n",
    "</div>"
   ]
  },
  {
   "cell_type": "markdown",
   "id": "bf89c68c",
   "metadata": {},
   "source": [
    "PassengerId - A unique Id for each passenger. Each Id takes the form gggg_pp where gggg indicates a group the passenger is travelling with and pp is their number within the group. People in a group are often family members, but not always.\n",
    "Let's create new features\n",
    "- 'Group_Size': Indicates the number of people in that group\n",
    "- 'Travelling_Solo': Whether or not they're alone\n",
    "\n"
   ]
  },
  {
   "cell_type": "code",
   "execution_count": 9,
   "id": "7ea68f29",
   "metadata": {},
   "outputs": [
    {
     "data": {
      "text/html": [
       "<div>\n",
       "<style scoped>\n",
       "    .dataframe tbody tr th:only-of-type {\n",
       "        vertical-align: middle;\n",
       "    }\n",
       "\n",
       "    .dataframe tbody tr th {\n",
       "        vertical-align: top;\n",
       "    }\n",
       "\n",
       "    .dataframe thead th {\n",
       "        text-align: right;\n",
       "    }\n",
       "</style>\n",
       "<table border=\"1\" class=\"dataframe\">\n",
       "  <thead>\n",
       "    <tr style=\"text-align: right;\">\n",
       "      <th></th>\n",
       "      <th>PassengerId</th>\n",
       "      <th>HomePlanet</th>\n",
       "      <th>CryoSleep</th>\n",
       "      <th>Cabin</th>\n",
       "      <th>Destination</th>\n",
       "      <th>Age</th>\n",
       "      <th>VIP</th>\n",
       "      <th>RoomService</th>\n",
       "      <th>FoodCourt</th>\n",
       "      <th>ShoppingMall</th>\n",
       "      <th>Spa</th>\n",
       "      <th>VRDeck</th>\n",
       "      <th>Transported</th>\n",
       "      <th>Group</th>\n",
       "    </tr>\n",
       "  </thead>\n",
       "  <tbody>\n",
       "    <tr>\n",
       "      <th>0</th>\n",
       "      <td>0001_01</td>\n",
       "      <td>Europa</td>\n",
       "      <td>False</td>\n",
       "      <td>B/0/P</td>\n",
       "      <td>TRAPPIST-1e</td>\n",
       "      <td>39.0</td>\n",
       "      <td>False</td>\n",
       "      <td>0.0</td>\n",
       "      <td>0.0</td>\n",
       "      <td>0.0</td>\n",
       "      <td>0.0</td>\n",
       "      <td>0.0</td>\n",
       "      <td>False</td>\n",
       "      <td>0001</td>\n",
       "    </tr>\n",
       "    <tr>\n",
       "      <th>1</th>\n",
       "      <td>0002_01</td>\n",
       "      <td>Earth</td>\n",
       "      <td>False</td>\n",
       "      <td>F/0/S</td>\n",
       "      <td>TRAPPIST-1e</td>\n",
       "      <td>24.0</td>\n",
       "      <td>False</td>\n",
       "      <td>109.0</td>\n",
       "      <td>9.0</td>\n",
       "      <td>25.0</td>\n",
       "      <td>549.0</td>\n",
       "      <td>44.0</td>\n",
       "      <td>True</td>\n",
       "      <td>0002</td>\n",
       "    </tr>\n",
       "    <tr>\n",
       "      <th>2</th>\n",
       "      <td>0003_01</td>\n",
       "      <td>Europa</td>\n",
       "      <td>False</td>\n",
       "      <td>A/0/S</td>\n",
       "      <td>TRAPPIST-1e</td>\n",
       "      <td>58.0</td>\n",
       "      <td>True</td>\n",
       "      <td>43.0</td>\n",
       "      <td>3576.0</td>\n",
       "      <td>0.0</td>\n",
       "      <td>6715.0</td>\n",
       "      <td>49.0</td>\n",
       "      <td>False</td>\n",
       "      <td>0003</td>\n",
       "    </tr>\n",
       "    <tr>\n",
       "      <th>3</th>\n",
       "      <td>0003_02</td>\n",
       "      <td>Europa</td>\n",
       "      <td>False</td>\n",
       "      <td>A/0/S</td>\n",
       "      <td>TRAPPIST-1e</td>\n",
       "      <td>33.0</td>\n",
       "      <td>False</td>\n",
       "      <td>0.0</td>\n",
       "      <td>1283.0</td>\n",
       "      <td>371.0</td>\n",
       "      <td>3329.0</td>\n",
       "      <td>193.0</td>\n",
       "      <td>False</td>\n",
       "      <td>0003</td>\n",
       "    </tr>\n",
       "    <tr>\n",
       "      <th>4</th>\n",
       "      <td>0004_01</td>\n",
       "      <td>Earth</td>\n",
       "      <td>False</td>\n",
       "      <td>F/1/S</td>\n",
       "      <td>TRAPPIST-1e</td>\n",
       "      <td>16.0</td>\n",
       "      <td>False</td>\n",
       "      <td>303.0</td>\n",
       "      <td>70.0</td>\n",
       "      <td>151.0</td>\n",
       "      <td>565.0</td>\n",
       "      <td>2.0</td>\n",
       "      <td>True</td>\n",
       "      <td>0004</td>\n",
       "    </tr>\n",
       "  </tbody>\n",
       "</table>\n",
       "</div>"
      ],
      "text/plain": [
       "  PassengerId HomePlanet CryoSleep  Cabin  Destination   Age    VIP  \\\n",
       "0     0001_01     Europa     False  B/0/P  TRAPPIST-1e  39.0  False   \n",
       "1     0002_01      Earth     False  F/0/S  TRAPPIST-1e  24.0  False   \n",
       "2     0003_01     Europa     False  A/0/S  TRAPPIST-1e  58.0   True   \n",
       "3     0003_02     Europa     False  A/0/S  TRAPPIST-1e  33.0  False   \n",
       "4     0004_01      Earth     False  F/1/S  TRAPPIST-1e  16.0  False   \n",
       "\n",
       "   RoomService  FoodCourt  ShoppingMall     Spa  VRDeck  Transported Group  \n",
       "0          0.0        0.0           0.0     0.0     0.0        False  0001  \n",
       "1        109.0        9.0          25.0   549.0    44.0         True  0002  \n",
       "2         43.0     3576.0           0.0  6715.0    49.0        False  0003  \n",
       "3          0.0     1283.0         371.0  3329.0   193.0        False  0003  \n",
       "4        303.0       70.0         151.0   565.0     2.0         True  0004  "
      ]
     },
     "execution_count": 9,
     "metadata": {},
     "output_type": "execute_result"
    }
   ],
   "source": [
    "df['Group'] = df['PassengerId'].str[:4]\n",
    "df.head()"
   ]
  },
  {
   "cell_type": "markdown",
   "id": "8c5e11bb",
   "metadata": {},
   "source": [
    "When how='left', it means that all the rows from the left DataFrame (the one specified first in the pd.merge() function) are retained in the resulting DataFrame, and matching rows from the right DataFrame are merged based on the specified keys. If there are no matching rows in the right DataFrame, the corresponding columns will have NaN values.\n"
   ]
  },
  {
   "cell_type": "code",
   "execution_count": 10,
   "id": "19ac1362",
   "metadata": {},
   "outputs": [],
   "source": [
    "group_sizes = df['Group'].value_counts().reset_index()\n",
    "group_sizes.columns = ['Group', 'Group_Size']\n",
    "\n",
    "df = pd.merge(df, group_sizes, on='Group', how='left')"
   ]
  },
  {
   "cell_type": "code",
   "execution_count": 11,
   "id": "7959191e",
   "metadata": {},
   "outputs": [
    {
     "data": {
      "text/html": [
       "<div>\n",
       "<style scoped>\n",
       "    .dataframe tbody tr th:only-of-type {\n",
       "        vertical-align: middle;\n",
       "    }\n",
       "\n",
       "    .dataframe tbody tr th {\n",
       "        vertical-align: top;\n",
       "    }\n",
       "\n",
       "    .dataframe thead th {\n",
       "        text-align: right;\n",
       "    }\n",
       "</style>\n",
       "<table border=\"1\" class=\"dataframe\">\n",
       "  <thead>\n",
       "    <tr style=\"text-align: right;\">\n",
       "      <th></th>\n",
       "      <th>PassengerId</th>\n",
       "      <th>HomePlanet</th>\n",
       "      <th>CryoSleep</th>\n",
       "      <th>Cabin</th>\n",
       "      <th>Destination</th>\n",
       "      <th>Age</th>\n",
       "      <th>VIP</th>\n",
       "      <th>RoomService</th>\n",
       "      <th>FoodCourt</th>\n",
       "      <th>ShoppingMall</th>\n",
       "      <th>Spa</th>\n",
       "      <th>VRDeck</th>\n",
       "      <th>Transported</th>\n",
       "      <th>Group</th>\n",
       "      <th>Group_Size</th>\n",
       "    </tr>\n",
       "  </thead>\n",
       "  <tbody>\n",
       "    <tr>\n",
       "      <th>0</th>\n",
       "      <td>0001_01</td>\n",
       "      <td>Europa</td>\n",
       "      <td>False</td>\n",
       "      <td>B/0/P</td>\n",
       "      <td>TRAPPIST-1e</td>\n",
       "      <td>39.0</td>\n",
       "      <td>False</td>\n",
       "      <td>0.0</td>\n",
       "      <td>0.0</td>\n",
       "      <td>0.0</td>\n",
       "      <td>0.0</td>\n",
       "      <td>0.0</td>\n",
       "      <td>False</td>\n",
       "      <td>0001</td>\n",
       "      <td>1</td>\n",
       "    </tr>\n",
       "    <tr>\n",
       "      <th>1</th>\n",
       "      <td>0002_01</td>\n",
       "      <td>Earth</td>\n",
       "      <td>False</td>\n",
       "      <td>F/0/S</td>\n",
       "      <td>TRAPPIST-1e</td>\n",
       "      <td>24.0</td>\n",
       "      <td>False</td>\n",
       "      <td>109.0</td>\n",
       "      <td>9.0</td>\n",
       "      <td>25.0</td>\n",
       "      <td>549.0</td>\n",
       "      <td>44.0</td>\n",
       "      <td>True</td>\n",
       "      <td>0002</td>\n",
       "      <td>1</td>\n",
       "    </tr>\n",
       "    <tr>\n",
       "      <th>2</th>\n",
       "      <td>0003_01</td>\n",
       "      <td>Europa</td>\n",
       "      <td>False</td>\n",
       "      <td>A/0/S</td>\n",
       "      <td>TRAPPIST-1e</td>\n",
       "      <td>58.0</td>\n",
       "      <td>True</td>\n",
       "      <td>43.0</td>\n",
       "      <td>3576.0</td>\n",
       "      <td>0.0</td>\n",
       "      <td>6715.0</td>\n",
       "      <td>49.0</td>\n",
       "      <td>False</td>\n",
       "      <td>0003</td>\n",
       "      <td>2</td>\n",
       "    </tr>\n",
       "    <tr>\n",
       "      <th>3</th>\n",
       "      <td>0003_02</td>\n",
       "      <td>Europa</td>\n",
       "      <td>False</td>\n",
       "      <td>A/0/S</td>\n",
       "      <td>TRAPPIST-1e</td>\n",
       "      <td>33.0</td>\n",
       "      <td>False</td>\n",
       "      <td>0.0</td>\n",
       "      <td>1283.0</td>\n",
       "      <td>371.0</td>\n",
       "      <td>3329.0</td>\n",
       "      <td>193.0</td>\n",
       "      <td>False</td>\n",
       "      <td>0003</td>\n",
       "      <td>2</td>\n",
       "    </tr>\n",
       "    <tr>\n",
       "      <th>4</th>\n",
       "      <td>0004_01</td>\n",
       "      <td>Earth</td>\n",
       "      <td>False</td>\n",
       "      <td>F/1/S</td>\n",
       "      <td>TRAPPIST-1e</td>\n",
       "      <td>16.0</td>\n",
       "      <td>False</td>\n",
       "      <td>303.0</td>\n",
       "      <td>70.0</td>\n",
       "      <td>151.0</td>\n",
       "      <td>565.0</td>\n",
       "      <td>2.0</td>\n",
       "      <td>True</td>\n",
       "      <td>0004</td>\n",
       "      <td>1</td>\n",
       "    </tr>\n",
       "  </tbody>\n",
       "</table>\n",
       "</div>"
      ],
      "text/plain": [
       "  PassengerId HomePlanet CryoSleep  Cabin  Destination   Age    VIP  \\\n",
       "0     0001_01     Europa     False  B/0/P  TRAPPIST-1e  39.0  False   \n",
       "1     0002_01      Earth     False  F/0/S  TRAPPIST-1e  24.0  False   \n",
       "2     0003_01     Europa     False  A/0/S  TRAPPIST-1e  58.0   True   \n",
       "3     0003_02     Europa     False  A/0/S  TRAPPIST-1e  33.0  False   \n",
       "4     0004_01      Earth     False  F/1/S  TRAPPIST-1e  16.0  False   \n",
       "\n",
       "   RoomService  FoodCourt  ShoppingMall     Spa  VRDeck  Transported Group  \\\n",
       "0          0.0        0.0           0.0     0.0     0.0        False  0001   \n",
       "1        109.0        9.0          25.0   549.0    44.0         True  0002   \n",
       "2         43.0     3576.0           0.0  6715.0    49.0        False  0003   \n",
       "3          0.0     1283.0         371.0  3329.0   193.0        False  0003   \n",
       "4        303.0       70.0         151.0   565.0     2.0         True  0004   \n",
       "\n",
       "   Group_Size  \n",
       "0           1  \n",
       "1           1  \n",
       "2           2  \n",
       "3           2  \n",
       "4           1  "
      ]
     },
     "execution_count": 11,
     "metadata": {},
     "output_type": "execute_result"
    }
   ],
   "source": [
    "df.head()"
   ]
  },
  {
   "cell_type": "code",
   "execution_count": 12,
   "id": "7bd921cf",
   "metadata": {},
   "outputs": [],
   "source": [
    "df['Travelling_Solo'] = (df['Group_Size'] == 1).astype(int)"
   ]
  },
  {
   "cell_type": "code",
   "execution_count": 13,
   "id": "fe416b19",
   "metadata": {},
   "outputs": [
    {
     "data": {
      "text/html": [
       "<div>\n",
       "<style scoped>\n",
       "    .dataframe tbody tr th:only-of-type {\n",
       "        vertical-align: middle;\n",
       "    }\n",
       "\n",
       "    .dataframe tbody tr th {\n",
       "        vertical-align: top;\n",
       "    }\n",
       "\n",
       "    .dataframe thead th {\n",
       "        text-align: right;\n",
       "    }\n",
       "</style>\n",
       "<table border=\"1\" class=\"dataframe\">\n",
       "  <thead>\n",
       "    <tr style=\"text-align: right;\">\n",
       "      <th></th>\n",
       "      <th>PassengerId</th>\n",
       "      <th>HomePlanet</th>\n",
       "      <th>CryoSleep</th>\n",
       "      <th>Cabin</th>\n",
       "      <th>Destination</th>\n",
       "      <th>Age</th>\n",
       "      <th>VIP</th>\n",
       "      <th>RoomService</th>\n",
       "      <th>FoodCourt</th>\n",
       "      <th>ShoppingMall</th>\n",
       "      <th>Spa</th>\n",
       "      <th>VRDeck</th>\n",
       "      <th>Transported</th>\n",
       "      <th>Group</th>\n",
       "      <th>Group_Size</th>\n",
       "      <th>Travelling_Solo</th>\n",
       "    </tr>\n",
       "  </thead>\n",
       "  <tbody>\n",
       "    <tr>\n",
       "      <th>0</th>\n",
       "      <td>0001_01</td>\n",
       "      <td>Europa</td>\n",
       "      <td>False</td>\n",
       "      <td>B/0/P</td>\n",
       "      <td>TRAPPIST-1e</td>\n",
       "      <td>39.0</td>\n",
       "      <td>False</td>\n",
       "      <td>0.0</td>\n",
       "      <td>0.0</td>\n",
       "      <td>0.0</td>\n",
       "      <td>0.0</td>\n",
       "      <td>0.0</td>\n",
       "      <td>False</td>\n",
       "      <td>0001</td>\n",
       "      <td>1</td>\n",
       "      <td>1</td>\n",
       "    </tr>\n",
       "    <tr>\n",
       "      <th>1</th>\n",
       "      <td>0002_01</td>\n",
       "      <td>Earth</td>\n",
       "      <td>False</td>\n",
       "      <td>F/0/S</td>\n",
       "      <td>TRAPPIST-1e</td>\n",
       "      <td>24.0</td>\n",
       "      <td>False</td>\n",
       "      <td>109.0</td>\n",
       "      <td>9.0</td>\n",
       "      <td>25.0</td>\n",
       "      <td>549.0</td>\n",
       "      <td>44.0</td>\n",
       "      <td>True</td>\n",
       "      <td>0002</td>\n",
       "      <td>1</td>\n",
       "      <td>1</td>\n",
       "    </tr>\n",
       "    <tr>\n",
       "      <th>2</th>\n",
       "      <td>0003_01</td>\n",
       "      <td>Europa</td>\n",
       "      <td>False</td>\n",
       "      <td>A/0/S</td>\n",
       "      <td>TRAPPIST-1e</td>\n",
       "      <td>58.0</td>\n",
       "      <td>True</td>\n",
       "      <td>43.0</td>\n",
       "      <td>3576.0</td>\n",
       "      <td>0.0</td>\n",
       "      <td>6715.0</td>\n",
       "      <td>49.0</td>\n",
       "      <td>False</td>\n",
       "      <td>0003</td>\n",
       "      <td>2</td>\n",
       "      <td>0</td>\n",
       "    </tr>\n",
       "    <tr>\n",
       "      <th>3</th>\n",
       "      <td>0003_02</td>\n",
       "      <td>Europa</td>\n",
       "      <td>False</td>\n",
       "      <td>A/0/S</td>\n",
       "      <td>TRAPPIST-1e</td>\n",
       "      <td>33.0</td>\n",
       "      <td>False</td>\n",
       "      <td>0.0</td>\n",
       "      <td>1283.0</td>\n",
       "      <td>371.0</td>\n",
       "      <td>3329.0</td>\n",
       "      <td>193.0</td>\n",
       "      <td>False</td>\n",
       "      <td>0003</td>\n",
       "      <td>2</td>\n",
       "      <td>0</td>\n",
       "    </tr>\n",
       "    <tr>\n",
       "      <th>4</th>\n",
       "      <td>0004_01</td>\n",
       "      <td>Earth</td>\n",
       "      <td>False</td>\n",
       "      <td>F/1/S</td>\n",
       "      <td>TRAPPIST-1e</td>\n",
       "      <td>16.0</td>\n",
       "      <td>False</td>\n",
       "      <td>303.0</td>\n",
       "      <td>70.0</td>\n",
       "      <td>151.0</td>\n",
       "      <td>565.0</td>\n",
       "      <td>2.0</td>\n",
       "      <td>True</td>\n",
       "      <td>0004</td>\n",
       "      <td>1</td>\n",
       "      <td>1</td>\n",
       "    </tr>\n",
       "  </tbody>\n",
       "</table>\n",
       "</div>"
      ],
      "text/plain": [
       "  PassengerId HomePlanet CryoSleep  Cabin  Destination   Age    VIP  \\\n",
       "0     0001_01     Europa     False  B/0/P  TRAPPIST-1e  39.0  False   \n",
       "1     0002_01      Earth     False  F/0/S  TRAPPIST-1e  24.0  False   \n",
       "2     0003_01     Europa     False  A/0/S  TRAPPIST-1e  58.0   True   \n",
       "3     0003_02     Europa     False  A/0/S  TRAPPIST-1e  33.0  False   \n",
       "4     0004_01      Earth     False  F/1/S  TRAPPIST-1e  16.0  False   \n",
       "\n",
       "   RoomService  FoodCourt  ShoppingMall     Spa  VRDeck  Transported Group  \\\n",
       "0          0.0        0.0           0.0     0.0     0.0        False  0001   \n",
       "1        109.0        9.0          25.0   549.0    44.0         True  0002   \n",
       "2         43.0     3576.0           0.0  6715.0    49.0        False  0003   \n",
       "3          0.0     1283.0         371.0  3329.0   193.0        False  0003   \n",
       "4        303.0       70.0         151.0   565.0     2.0         True  0004   \n",
       "\n",
       "   Group_Size  Travelling_Solo  \n",
       "0           1                1  \n",
       "1           1                1  \n",
       "2           2                0  \n",
       "3           2                0  \n",
       "4           1                1  "
      ]
     },
     "execution_count": 13,
     "metadata": {},
     "output_type": "execute_result"
    }
   ],
   "source": [
    "df.head()"
   ]
  },
  {
   "cell_type": "code",
   "execution_count": 14,
   "id": "68cd26f5",
   "metadata": {},
   "outputs": [],
   "source": [
    "# dropping the column 'Group' and 'PassengerId' because it served its purpose\n",
    "df.drop(['Group', 'PassengerId'], axis=1, inplace=True)\n"
   ]
  },
  {
   "cell_type": "markdown",
   "id": "954599e7",
   "metadata": {},
   "source": [
    "<div style=\"display: flex; \n",
    "            align-items: center;\">\n",
    "  <p style=\"background: linear-gradient(to right,#FFE6E6,white);\n",
    "            color: transparent;\n",
    "            font-family: Georgia;\n",
    "            color: black;\n",
    "            font-size: 70%;\n",
    "            text-align: left;\n",
    "            padding: 5px;\n",
    "            padding-left: 10px;\n",
    "            width: 1000%;\n",
    "            letter-spacing:1px;\n",
    "            margin: 0px;\">\n",
    "      Cabin Feature\n",
    "  </p>\n",
    "</div>"
   ]
  },
  {
   "cell_type": "markdown",
   "id": "73b47f56",
   "metadata": {},
   "source": [
    "We know that cabin feature consists of deck/num/side , where deck is deck loacation, num is deck_number and side can be P for port or S for Starboard.\n",
    "\n",
    "We can separate all these 3 values from cabin & create three new features Cabin_Deck, Cabin_Number & Cabin_Side."
   ]
  },
  {
   "cell_type": "code",
   "execution_count": 15,
   "id": "665afb3f",
   "metadata": {},
   "outputs": [
    {
     "data": {
      "text/plain": [
       "199"
      ]
     },
     "execution_count": 15,
     "metadata": {},
     "output_type": "execute_result"
    }
   ],
   "source": [
    "df['Cabin'].isnull().sum()"
   ]
  },
  {
   "cell_type": "markdown",
   "id": "2ca83a4d",
   "metadata": {},
   "source": [
    "We also have to take care of these missing values"
   ]
  },
  {
   "cell_type": "code",
   "execution_count": 16,
   "id": "e23832e6",
   "metadata": {},
   "outputs": [
    {
     "data": {
      "text/plain": [
       "0"
      ]
     },
     "execution_count": 16,
     "metadata": {},
     "output_type": "execute_result"
    }
   ],
   "source": [
    "(df['Cabin'].str.contains('xyz')).sum()"
   ]
  },
  {
   "cell_type": "code",
   "execution_count": 17,
   "id": "4fef92a3",
   "metadata": {},
   "outputs": [],
   "source": [
    "df['Cabin'].fillna('xyz/xyz/xyz', inplace=True)"
   ]
  },
  {
   "cell_type": "code",
   "execution_count": 18,
   "id": "606eb5c4",
   "metadata": {},
   "outputs": [],
   "source": [
    "df['Cabin_Deck'] = df['Cabin'].apply(lambda x: x.split('/')[0])\n",
    "df['Cabin_Number'] = df['Cabin'].apply(lambda x: x.split('/')[1])\n",
    "df['Cabin_Side'] = df['Cabin'].apply(lambda x: x.split('/')[2])"
   ]
  },
  {
   "cell_type": "code",
   "execution_count": 19,
   "id": "5e94823a",
   "metadata": {},
   "outputs": [
    {
     "data": {
      "text/html": [
       "<div>\n",
       "<style scoped>\n",
       "    .dataframe tbody tr th:only-of-type {\n",
       "        vertical-align: middle;\n",
       "    }\n",
       "\n",
       "    .dataframe tbody tr th {\n",
       "        vertical-align: top;\n",
       "    }\n",
       "\n",
       "    .dataframe thead th {\n",
       "        text-align: right;\n",
       "    }\n",
       "</style>\n",
       "<table border=\"1\" class=\"dataframe\">\n",
       "  <thead>\n",
       "    <tr style=\"text-align: right;\">\n",
       "      <th></th>\n",
       "      <th>HomePlanet</th>\n",
       "      <th>CryoSleep</th>\n",
       "      <th>Cabin</th>\n",
       "      <th>Destination</th>\n",
       "      <th>Age</th>\n",
       "      <th>VIP</th>\n",
       "      <th>RoomService</th>\n",
       "      <th>FoodCourt</th>\n",
       "      <th>ShoppingMall</th>\n",
       "      <th>Spa</th>\n",
       "      <th>VRDeck</th>\n",
       "      <th>Transported</th>\n",
       "      <th>Group_Size</th>\n",
       "      <th>Travelling_Solo</th>\n",
       "      <th>Cabin_Deck</th>\n",
       "      <th>Cabin_Number</th>\n",
       "      <th>Cabin_Side</th>\n",
       "    </tr>\n",
       "  </thead>\n",
       "  <tbody>\n",
       "    <tr>\n",
       "      <th>0</th>\n",
       "      <td>Europa</td>\n",
       "      <td>False</td>\n",
       "      <td>B/0/P</td>\n",
       "      <td>TRAPPIST-1e</td>\n",
       "      <td>39.0</td>\n",
       "      <td>False</td>\n",
       "      <td>0.0</td>\n",
       "      <td>0.0</td>\n",
       "      <td>0.0</td>\n",
       "      <td>0.0</td>\n",
       "      <td>0.0</td>\n",
       "      <td>False</td>\n",
       "      <td>1</td>\n",
       "      <td>1</td>\n",
       "      <td>B</td>\n",
       "      <td>0</td>\n",
       "      <td>P</td>\n",
       "    </tr>\n",
       "    <tr>\n",
       "      <th>1</th>\n",
       "      <td>Earth</td>\n",
       "      <td>False</td>\n",
       "      <td>F/0/S</td>\n",
       "      <td>TRAPPIST-1e</td>\n",
       "      <td>24.0</td>\n",
       "      <td>False</td>\n",
       "      <td>109.0</td>\n",
       "      <td>9.0</td>\n",
       "      <td>25.0</td>\n",
       "      <td>549.0</td>\n",
       "      <td>44.0</td>\n",
       "      <td>True</td>\n",
       "      <td>1</td>\n",
       "      <td>1</td>\n",
       "      <td>F</td>\n",
       "      <td>0</td>\n",
       "      <td>S</td>\n",
       "    </tr>\n",
       "    <tr>\n",
       "      <th>2</th>\n",
       "      <td>Europa</td>\n",
       "      <td>False</td>\n",
       "      <td>A/0/S</td>\n",
       "      <td>TRAPPIST-1e</td>\n",
       "      <td>58.0</td>\n",
       "      <td>True</td>\n",
       "      <td>43.0</td>\n",
       "      <td>3576.0</td>\n",
       "      <td>0.0</td>\n",
       "      <td>6715.0</td>\n",
       "      <td>49.0</td>\n",
       "      <td>False</td>\n",
       "      <td>2</td>\n",
       "      <td>0</td>\n",
       "      <td>A</td>\n",
       "      <td>0</td>\n",
       "      <td>S</td>\n",
       "    </tr>\n",
       "    <tr>\n",
       "      <th>3</th>\n",
       "      <td>Europa</td>\n",
       "      <td>False</td>\n",
       "      <td>A/0/S</td>\n",
       "      <td>TRAPPIST-1e</td>\n",
       "      <td>33.0</td>\n",
       "      <td>False</td>\n",
       "      <td>0.0</td>\n",
       "      <td>1283.0</td>\n",
       "      <td>371.0</td>\n",
       "      <td>3329.0</td>\n",
       "      <td>193.0</td>\n",
       "      <td>False</td>\n",
       "      <td>2</td>\n",
       "      <td>0</td>\n",
       "      <td>A</td>\n",
       "      <td>0</td>\n",
       "      <td>S</td>\n",
       "    </tr>\n",
       "    <tr>\n",
       "      <th>4</th>\n",
       "      <td>Earth</td>\n",
       "      <td>False</td>\n",
       "      <td>F/1/S</td>\n",
       "      <td>TRAPPIST-1e</td>\n",
       "      <td>16.0</td>\n",
       "      <td>False</td>\n",
       "      <td>303.0</td>\n",
       "      <td>70.0</td>\n",
       "      <td>151.0</td>\n",
       "      <td>565.0</td>\n",
       "      <td>2.0</td>\n",
       "      <td>True</td>\n",
       "      <td>1</td>\n",
       "      <td>1</td>\n",
       "      <td>F</td>\n",
       "      <td>1</td>\n",
       "      <td>S</td>\n",
       "    </tr>\n",
       "  </tbody>\n",
       "</table>\n",
       "</div>"
      ],
      "text/plain": [
       "  HomePlanet CryoSleep  Cabin  Destination   Age    VIP  RoomService  \\\n",
       "0     Europa     False  B/0/P  TRAPPIST-1e  39.0  False          0.0   \n",
       "1      Earth     False  F/0/S  TRAPPIST-1e  24.0  False        109.0   \n",
       "2     Europa     False  A/0/S  TRAPPIST-1e  58.0   True         43.0   \n",
       "3     Europa     False  A/0/S  TRAPPIST-1e  33.0  False          0.0   \n",
       "4      Earth     False  F/1/S  TRAPPIST-1e  16.0  False        303.0   \n",
       "\n",
       "   FoodCourt  ShoppingMall     Spa  VRDeck  Transported  Group_Size  \\\n",
       "0        0.0           0.0     0.0     0.0        False           1   \n",
       "1        9.0          25.0   549.0    44.0         True           1   \n",
       "2     3576.0           0.0  6715.0    49.0        False           2   \n",
       "3     1283.0         371.0  3329.0   193.0        False           2   \n",
       "4       70.0         151.0   565.0     2.0         True           1   \n",
       "\n",
       "   Travelling_Solo Cabin_Deck Cabin_Number Cabin_Side  \n",
       "0                1          B            0          P  \n",
       "1                1          F            0          S  \n",
       "2                0          A            0          S  \n",
       "3                0          A            0          S  \n",
       "4                1          F            1          S  "
      ]
     },
     "execution_count": 19,
     "metadata": {},
     "output_type": "execute_result"
    }
   ],
   "source": [
    "df.head()"
   ]
  },
  {
   "cell_type": "code",
   "execution_count": 20,
   "id": "fe6813eb",
   "metadata": {},
   "outputs": [],
   "source": [
    "# We filled the missing values with xyz so let's replace them with the mode of the feature\n",
    "\n",
    "df['Cabin_Deck'] = df['Cabin_Deck'].replace('xyz', df['Cabin_Deck'].mode()[0])\n",
    "df['Cabin_Side'] = df['Cabin_Side'].replace('xyz', df['Cabin_Side'].mode()[0])\n",
    "\n"
   ]
  },
  {
   "cell_type": "code",
   "execution_count": 21,
   "id": "b0224985",
   "metadata": {},
   "outputs": [],
   "source": [
    "# since this column is numerical. Replace the missing values with the median\n",
    "# first, we replace them with np.nan so that we can get the median value \n",
    "# otherwise it'd throw an error because it won't recognize the string 'xyz'\n",
    "\n",
    "df['Cabin_Number'] = df['Cabin_Number'].replace('xyz', np.nan)\n",
    "df['Cabin_Number'] = df['Cabin_Number'].fillna(df['Cabin_Number'].median())\n"
   ]
  },
  {
   "cell_type": "code",
   "execution_count": 22,
   "id": "90cb7c9f",
   "metadata": {},
   "outputs": [
    {
     "name": "stdout",
     "output_type": "stream",
     "text": [
      "<class 'pandas.core.frame.DataFrame'>\n",
      "Int64Index: 8693 entries, 0 to 8692\n",
      "Data columns (total 17 columns):\n",
      " #   Column           Non-Null Count  Dtype  \n",
      "---  ------           --------------  -----  \n",
      " 0   HomePlanet       8492 non-null   object \n",
      " 1   CryoSleep        8476 non-null   object \n",
      " 2   Cabin            8693 non-null   object \n",
      " 3   Destination      8511 non-null   object \n",
      " 4   Age              8514 non-null   float64\n",
      " 5   VIP              8490 non-null   object \n",
      " 6   RoomService      8512 non-null   float64\n",
      " 7   FoodCourt        8510 non-null   float64\n",
      " 8   ShoppingMall     8485 non-null   float64\n",
      " 9   Spa              8510 non-null   float64\n",
      " 10  VRDeck           8505 non-null   float64\n",
      " 11  Transported      8693 non-null   bool   \n",
      " 12  Group_Size       8693 non-null   int64  \n",
      " 13  Travelling_Solo  8693 non-null   int64  \n",
      " 14  Cabin_Deck       8693 non-null   object \n",
      " 15  Cabin_Number     8693 non-null   object \n",
      " 16  Cabin_Side       8693 non-null   object \n",
      "dtypes: bool(1), float64(6), int64(2), object(8)\n",
      "memory usage: 1.1+ MB\n"
     ]
    }
   ],
   "source": [
    "df.info()"
   ]
  },
  {
   "cell_type": "code",
   "execution_count": 23,
   "id": "eaa46c08",
   "metadata": {},
   "outputs": [],
   "source": [
    "# dropping cabin feature because it served its purpose\n",
    "df.drop(['Cabin'], axis=1, inplace=True)"
   ]
  },
  {
   "cell_type": "code",
   "execution_count": 24,
   "id": "95cb512d",
   "metadata": {},
   "outputs": [],
   "source": [
    "# Converting the dtype from object to int\n",
    "df['Cabin_Number'] = df['Cabin_Number'].astype(int)"
   ]
  },
  {
   "cell_type": "code",
   "execution_count": null,
   "id": "7483f394",
   "metadata": {},
   "outputs": [],
   "source": []
  },
  {
   "cell_type": "code",
   "execution_count": null,
   "id": "feff4885",
   "metadata": {},
   "outputs": [],
   "source": []
  },
  {
   "cell_type": "code",
   "execution_count": null,
   "id": "95b83a3f",
   "metadata": {},
   "outputs": [],
   "source": []
  },
  {
   "cell_type": "markdown",
   "id": "a262ee03",
   "metadata": {},
   "source": [
    "<p style=\"background: linear-gradient(to right,#4793AF,white);\n",
    "          color: transparent;\n",
    "          font-family: Georgia;\n",
    "          color: white;\n",
    "          font-size: 120%;\n",
    "          text-align: left;\n",
    "          padding: 15px;\n",
    "          letter-spacing:1px;\">\n",
    "   6. Exploratory Data Analysis\n",
    "</p>"
   ]
  },
  {
   "cell_type": "code",
   "execution_count": 25,
   "id": "d24ad35e",
   "metadata": {},
   "outputs": [
    {
     "data": {
      "text/plain": [
       "Index(['HomePlanet', 'CryoSleep', 'Destination', 'Age', 'VIP', 'RoomService',\n",
       "       'FoodCourt', 'ShoppingMall', 'Spa', 'VRDeck', 'Transported',\n",
       "       'Group_Size', 'Travelling_Solo', 'Cabin_Deck', 'Cabin_Number',\n",
       "       'Cabin_Side'],\n",
       "      dtype='object')"
      ]
     },
     "execution_count": 25,
     "metadata": {},
     "output_type": "execute_result"
    }
   ],
   "source": [
    "df.columns\n"
   ]
  },
  {
   "cell_type": "code",
   "execution_count": 26,
   "id": "037ecc18",
   "metadata": {},
   "outputs": [],
   "source": [
    "# identifying categorical and continuous columns first\n",
    "\n",
    "cat_cols = ['HomePlanet', 'CryoSleep', 'Destination', \n",
    "            'VIP','Travelling_Solo', 'Cabin_Deck',\n",
    "            'Cabin_Side', 'Group_Size']\n",
    "\n",
    "con_cols = ['Age','RoomService', 'FoodCourt', \n",
    "            'ShoppingMall', 'Spa', 'VRDeck', \n",
    "            'Cabin_Number']\n",
    "\n",
    "target_col = 'Transported'"
   ]
  },
  {
   "cell_type": "markdown",
   "id": "5f62ec26",
   "metadata": {},
   "source": [
    "\n",
    "<div style=\"display: flex; \n",
    "            align-items: center;\">\n",
    "  <div style=\"width: 30px; \n",
    "              height: 40px; \n",
    "              background-color: #4793AF;\n",
    "              color: white;\n",
    "              font-size: 60%;\n",
    "              text-align: center;\n",
    "              padding-top: 10px;\">\n",
    "      EDA\n",
    "  </div>\n",
    "  <p style=\"background: linear-gradient(to right,#FC819E,white);\n",
    "            color: transparent;\n",
    "            font-family: Georgia;\n",
    "            color: white;\n",
    "            font-size: 100%;\n",
    "            text-align: left;\n",
    "            padding: 10px;\n",
    "            width: 100%;\n",
    "            letter-spacing:1px;\n",
    "            margin: 0;\">\n",
    "      Frequency Distribution\n",
    "  </p>\n",
    "</div>\n"
   ]
  },
  {
   "cell_type": "markdown",
   "id": "5c7ace55",
   "metadata": {},
   "source": [
    "<div style=\"display: flex; \n",
    "            align-items: center;\">\n",
    "  <p style=\"background: linear-gradient(to right,#FFE6E6,white);\n",
    "            color: transparent;\n",
    "            font-family: Georgia;\n",
    "            color: black;\n",
    "            font-size: 70%;\n",
    "            text-align: left;\n",
    "            padding: 5px;\n",
    "            padding-left: 10px;\n",
    "            width: 1000%;\n",
    "            letter-spacing:1px;\n",
    "            margin: 0px;\">\n",
    "      Categirical Features\n",
    "  </p>\n",
    "</div>"
   ]
  },
  {
   "cell_type": "code",
   "execution_count": 27,
   "id": "b5035688",
   "metadata": {
    "scrolled": false
   },
   "outputs": [
    {
     "data": {
      "image/png": "[encoded data removed]",
      "text/plain": [
       "<Figure size 1000x4000 with 16 Axes>"
      ]
     },
     "metadata": {},
     "output_type": "display_data"
    }
   ],
   "source": [
    "columns = 2\n",
    "rows = len(cat_cols)\n",
    "\n",
    "pal = [\"#EBE76C\",\"#E6A4B4\", \"#AAD9BB\",\"#F9B572\", \"#836096\"]\n",
    "plt.figure(figsize=(columns*5, rows*5))\n",
    "\n",
    "for i, col in enumerate(cat_cols):\n",
    "    plt.subplot(rows, columns, (i*2)+1)\n",
    "    sns.countplot(x=df[col], palette=pal)\n",
    "    \n",
    "    plt.subplot(rows, columns, (i*2)+2)\n",
    "    sns.barplot(y='Transported', x=col, data=df, palette=pal)\n",
    "    \n",
    "    \n",
    "plt.show()"
   ]
  },
  {
   "cell_type": "markdown",
   "id": "c570a1ec",
   "metadata": {},
   "source": [
    "<div style=\"display: flex; \n",
    "            align-items: center;\">\n",
    "  <p style=\"background: linear-gradient(to right,#FFE6E6,white);\n",
    "            color: transparent;\n",
    "            font-family: Georgia;\n",
    "            color: black;\n",
    "            font-size: 70%;\n",
    "            text-align: left;\n",
    "            padding: 5px;\n",
    "            padding-left: 10px;\n",
    "            width: 1000%;\n",
    "            letter-spacing:1px;\n",
    "            margin: 0px;\">\n",
    "      Observations\n",
    "  </p>\n",
    "</div>"
   ]
  },
  {
   "cell_type": "markdown",
   "id": "a62c651a",
   "metadata": {},
   "source": [
    "- Most of the passengers were from Earth but comparetively, they're less transported\n",
    "- People from Europa are highly trasported \n",
    "- People in cryosleep are more likely to be transported\n",
    "- Most passengers' destination is TRAPPIST-le but passangers going to 55 cancri e were transported more\n",
    "- VIPs are more likely to be transported\n",
    "- Even though majority of the people were travelling solo, people in groups are more likely to be transported\n",
    "- The frequency distribution of the VIP column is not good. One class is much much more than the other. So it might lead to overfitting. So better drop it"
   ]
  },
  {
   "cell_type": "markdown",
   "id": "be03dff2",
   "metadata": {},
   "source": [
    "<div style=\"display: flex; \n",
    "            align-items: center;\">\n",
    "  <p style=\"background: linear-gradient(to right,#FFE6E6,white);\n",
    "            color: transparent;\n",
    "            font-family: Georgia;\n",
    "            color: black;\n",
    "            font-size: 70%;\n",
    "            text-align: left;\n",
    "            padding: 5px;\n",
    "            padding-left: 10px;\n",
    "            width: 1000%;\n",
    "            letter-spacing:1px;\n",
    "            margin: 0px;\">\n",
    "      Age feature\n",
    "  </p>\n",
    "</div>"
   ]
  },
  {
   "cell_type": "code",
   "execution_count": 28,
   "id": "672efb07",
   "metadata": {},
   "outputs": [
    {
     "data": {
      "image/png": "[encoded data removed]",
      "text/plain": [
       "<Figure size 1600x600 with 1 Axes>"
      ]
     },
     "metadata": {},
     "output_type": "display_data"
    }
   ],
   "source": [
    "plt.figure(figsize=(16,6))\n",
    "sns.histplot(x=df[\"Age\"],hue=df[\"Transported\"],kde=True,palette=\"Set2\")\n",
    "plt.xticks(np.arange(0, 80, step=2))\n",
    "plt.title(\"Age Feature Distribution\")\n",
    "plt.show()"
   ]
  },
  {
   "cell_type": "markdown",
   "id": "7c1de222",
   "metadata": {},
   "source": [
    "- People of below the age 18 were transported more than any other age group\n",
    "- People between the age group of 18-32 are less transported compared to other groups\n",
    "- People older than 32 seem to be equally transported compared to non-transported people in that age group\n",
    "- Since there is a pattern in the age vs transported, let's split this feature into different categories"
   ]
  },
  {
   "cell_type": "markdown",
   "id": "fe296bae",
   "metadata": {},
   "source": [
    "<div style=\"display: flex; \n",
    "            align-items: center;\">\n",
    "  <p style=\"background: linear-gradient(to right,#FFE6E6,white);\n",
    "            color: transparent;\n",
    "            font-family: Georgia;\n",
    "            color: black;\n",
    "            font-size: 70%;\n",
    "            text-align: left;\n",
    "            padding: 5px;\n",
    "            padding-left: 10px;\n",
    "            width: 1000%;\n",
    "            letter-spacing:1px;\n",
    "            margin: 0px;\">\n",
    "      All expenditure features\n",
    "  </p>\n",
    "</div>"
   ]
  },
  {
   "cell_type": "code",
   "execution_count": 29,
   "id": "b651e57d",
   "metadata": {},
   "outputs": [
    {
     "data": {
      "image/png": "[encoded data removed]",
      "text/plain": [
       "<Figure size 1400x1000 with 5 Axes>"
      ]
     },
     "metadata": {},
     "output_type": "display_data"
    }
   ],
   "source": [
    "exp_cols = [\"RoomService\",\"FoodCourt\",\"ShoppingMall\",\"Spa\",\"VRDeck\"]\n",
    "\n",
    "plt.figure(figsize=(14,10))\n",
    "for idx,column in enumerate(exp_cols):\n",
    "    plt.subplot(3,2,idx+1)\n",
    "    sns.histplot(x=column, hue=\"Transported\", data=df,bins=30,kde=True,palette=\"Set2\")\n",
    "    plt.title(f\"{column} Distribution\")\n",
    "    plt.ylim(0,100)\n",
    "    plt.tight_layout()\n",
    "    "
   ]
  },
  {
   "cell_type": "markdown",
   "id": "d22a71fd",
   "metadata": {},
   "source": [
    "<div style=\"display: flex; \n",
    "            align-items: center;\">\n",
    "  <p style=\"background: linear-gradient(to right,#FFE6E6,white);\n",
    "            color: transparent;\n",
    "            font-family: Georgia;\n",
    "            color: black;\n",
    "            font-size: 70%;\n",
    "            text-align: left;\n",
    "            padding: 5px;\n",
    "            padding-left: 10px;\n",
    "            width: 1000%;\n",
    "            letter-spacing:1px;\n",
    "            margin: 0px;\">\n",
    "      Observations\n",
    "  </p>\n",
    "</div>"
   ]
  },
  {
   "cell_type": "markdown",
   "id": "764847d0",
   "metadata": {},
   "source": [
    "- Most people didn't spend money\n",
    "- All the expenditure features are right skewed. So before Model Building we will transform these features to normal distribution using log-transformation\n",
    "- We can create Total expenditure column which adds up all these expenses\n",
    "- Then we can split total exp column into 3 categories (low, medium, high)"
   ]
  },
  {
   "cell_type": "markdown",
   "id": "e83c4b34",
   "metadata": {},
   "source": [
    "Cabin number distribution"
   ]
  },
  {
   "cell_type": "code",
   "execution_count": 30,
   "id": "b6facf5c",
   "metadata": {},
   "outputs": [
    {
     "data": {
      "image/png": "[encoded data removed]",
      "text/plain": [
       "<Figure size 1500x500 with 1 Axes>"
      ]
     },
     "metadata": {},
     "output_type": "display_data"
    }
   ],
   "source": [
    "plt.figure(figsize=(15,5))\n",
    "sns.histplot(x=\"Cabin_Number\",data=df,hue=\"Transported\",palette=\"Set2\")\n",
    "plt.title(\"Cabin_Number Distribution\")\n",
    "\n",
    "plt.show()"
   ]
  },
  {
   "cell_type": "markdown",
   "id": "05fb98b0",
   "metadata": {},
   "source": [
    "- Like the feature 'Age', we can see a pattern here also. So let's create different categories"
   ]
  },
  {
   "cell_type": "markdown",
   "id": "4134bb4a",
   "metadata": {},
   "source": [
    "<div style=\"display: flex; \n",
    "            align-items: center;\">\n",
    "  <p style=\"background: linear-gradient(to right,#FFE6E6,white);\n",
    "            color: transparent;\n",
    "            font-family: Georgia;\n",
    "            color: black;\n",
    "            font-size: 70%;\n",
    "            text-align: left;\n",
    "            padding: 5px;\n",
    "            padding-left: 10px;\n",
    "            width: 1000%;\n",
    "            letter-spacing:1px;\n",
    "            margin: 0px;\">\n",
    "      Creating a 'Total_Expenditure' column\n",
    "  </p>\n",
    "</div>"
   ]
  },
  {
   "cell_type": "code",
   "execution_count": 31,
   "id": "e31fbac2",
   "metadata": {},
   "outputs": [],
   "source": [
    "exp_cols = [\"RoomService\",\"FoodCourt\",\"ShoppingMall\",\"Spa\",\"VRDeck\"]\n",
    "\n",
    "df['Total_Expenditure'] = df[exp_cols].sum(axis=1)"
   ]
  },
  {
   "cell_type": "code",
   "execution_count": 32,
   "id": "786b66ec",
   "metadata": {},
   "outputs": [],
   "source": [
    "df.drop(exp_cols, inplace=True, axis=1)"
   ]
  },
  {
   "cell_type": "markdown",
   "id": "d06c45c3",
   "metadata": {},
   "source": [
    "<p style=\"background: linear-gradient(to right,#4793AF,white);\n",
    "          color: transparent;\n",
    "          font-family: Georgia;\n",
    "          color: white;\n",
    "          font-size: 120%;\n",
    "          text-align: left;\n",
    "          padding: 15px;\n",
    "          letter-spacing:1px;\">\n",
    "   7. Data Preprocessing\n",
    "</p>"
   ]
  },
  {
   "cell_type": "markdown",
   "id": "bdad2bc9",
   "metadata": {},
   "source": [
    "<div style=\"display: flex; \n",
    "            align-items: center;\">\n",
    "  <div style=\"width: 30px; \n",
    "              height: 40px; \n",
    "              background-color: #4793AF;\n",
    "              color: white;\n",
    "              font-size: 70%;\n",
    "              text-align: center;\n",
    "              padding-top: 10px;\">\n",
    "      DP\n",
    "  </div>\n",
    "  <p style=\"background: linear-gradient(to right,#FC819E,white);\n",
    "            color: transparent;\n",
    "            font-family: Georgia;\n",
    "            color: white;\n",
    "            font-size: 100%;\n",
    "            text-align: left;\n",
    "            padding: 10px;\n",
    "            width: 100%;\n",
    "            letter-spacing:1px;\n",
    "            margin: 0;\">\n",
    "      Handling Missing Values\n",
    "  </p>\n",
    "</div>\n"
   ]
  },
  {
   "cell_type": "code",
   "execution_count": 33,
   "id": "c9264050",
   "metadata": {},
   "outputs": [
    {
     "data": {
      "text/plain": [
       "HomePlanet           201\n",
       "CryoSleep            217\n",
       "Destination          182\n",
       "Age                  179\n",
       "VIP                  203\n",
       "Transported            0\n",
       "Group_Size             0\n",
       "Travelling_Solo        0\n",
       "Cabin_Deck             0\n",
       "Cabin_Number           0\n",
       "Cabin_Side             0\n",
       "Total_Expenditure      0\n",
       "dtype: int64"
      ]
     },
     "execution_count": 33,
     "metadata": {},
     "output_type": "execute_result"
    }
   ],
   "source": [
    "df.isnull().sum()"
   ]
  },
  {
   "cell_type": "code",
   "execution_count": 34,
   "id": "4aa2075e",
   "metadata": {},
   "outputs": [],
   "source": [
    "# new categorical and continuous columns\n",
    "\n",
    "cat_cols = ['HomePlanet', 'CryoSleep', \n",
    "            'Destination', 'VIP', 'Travelling_Solo', \n",
    "            'Cabin_Deck', 'Cabin_Side']\n",
    "\n",
    "con_cols = ['Age', 'Group_Size', 'Total_Expenditure', 'Cabin_Number']\n"
   ]
  },
  {
   "cell_type": "code",
   "execution_count": 35,
   "id": "71c8ce7e",
   "metadata": {},
   "outputs": [],
   "source": [
    "# imputing missing values\n",
    "\n",
    "cat_imputer = SimpleImputer(strategy = 'most_frequent')\n",
    "con_imputer = SimpleImputer(strategy = 'median')"
   ]
  },
  {
   "cell_type": "code",
   "execution_count": 36,
   "id": "c896afba",
   "metadata": {},
   "outputs": [],
   "source": [
    "df[cat_cols] = cat_imputer.fit_transform(df[cat_cols])\n",
    "df[con_cols] = cat_imputer.fit_transform(df[con_cols])\n"
   ]
  },
  {
   "cell_type": "code",
   "execution_count": 37,
   "id": "76378871",
   "metadata": {},
   "outputs": [
    {
     "data": {
      "text/plain": [
       "HomePlanet           0\n",
       "CryoSleep            0\n",
       "Destination          0\n",
       "Age                  0\n",
       "VIP                  0\n",
       "Transported          0\n",
       "Group_Size           0\n",
       "Travelling_Solo      0\n",
       "Cabin_Deck           0\n",
       "Cabin_Number         0\n",
       "Cabin_Side           0\n",
       "Total_Expenditure    0\n",
       "dtype: int64"
      ]
     },
     "execution_count": 37,
     "metadata": {},
     "output_type": "execute_result"
    }
   ],
   "source": [
    "df.isnull().sum()"
   ]
  },
  {
   "cell_type": "markdown",
   "id": "698848ae",
   "metadata": {},
   "source": [
    "No missing values now"
   ]
  },
  {
   "cell_type": "markdown",
   "id": "4fced5c6",
   "metadata": {},
   "source": [
    "<div style=\"display: flex; \n",
    "            align-items: center;\">\n",
    "  <div style=\"width: 30px; \n",
    "              height: 40px; \n",
    "              background-color: #4793AF;\n",
    "              color: white;\n",
    "              font-size: 70%;\n",
    "              text-align: center;\n",
    "              padding-top: 10px;\">\n",
    "      DP\n",
    "  </div>\n",
    "  <p style=\"background: linear-gradient(to right,#FC819E,white);\n",
    "            color: transparent;\n",
    "            font-family: Georgia;\n",
    "            color: white;\n",
    "            font-size: 100%;\n",
    "            text-align: left;\n",
    "            padding: 10px;\n",
    "            width: 100%;\n",
    "            letter-spacing:1px;\n",
    "            margin: 0;\">\n",
    "      Log Transformation\n",
    "  </p>\n",
    "</div>\n"
   ]
  },
  {
   "cell_type": "markdown",
   "id": "0688e291",
   "metadata": {},
   "source": [
    "We observed that the all the expenditures were right skewed and 50% of the people didn't spend ANY money on these thiings. So we can conclude that there are lots of outliers in this feature. So we apply log transformation"
   ]
  },
  {
   "cell_type": "code",
   "execution_count": 38,
   "id": "e6cb2be6",
   "metadata": {},
   "outputs": [],
   "source": [
    "df['Total_Expenditure'] = np.log(1 + df['Total_Expenditure'])"
   ]
  },
  {
   "cell_type": "markdown",
   "id": "3e4470b4",
   "metadata": {},
   "source": [
    "<div style=\"display: flex; \n",
    "            align-items: center;\">\n",
    "  <p style=\"background: linear-gradient(to right,#FFE6E6,white);\n",
    "            color: transparent;\n",
    "            font-family: Georgia;\n",
    "            color: black;\n",
    "            font-size: 70%;\n",
    "            text-align: left;\n",
    "            padding: 5px;\n",
    "            padding-left: 10px;\n",
    "            width: 1000%;\n",
    "            letter-spacing:1px;\n",
    "            margin: 0px;\">\n",
    "      Distribution after log transformation\n",
    "  </p>\n",
    "</div>"
   ]
  },
  {
   "cell_type": "code",
   "execution_count": 39,
   "id": "787f5228",
   "metadata": {},
   "outputs": [
    {
     "data": {
      "image/png": "[encoded data removed]",
      "text/plain": [
       "<Figure size 640x480 with 1 Axes>"
      ]
     },
     "metadata": {},
     "output_type": "display_data"
    }
   ],
   "source": [
    "sns.distplot(df['Total_Expenditure'])\n",
    "plt.show()"
   ]
  },
  {
   "cell_type": "markdown",
   "id": "5dc56678",
   "metadata": {},
   "source": [
    "<div style=\"display: flex; \n",
    "            align-items: center;\">\n",
    "  <div style=\"width: 30px; \n",
    "              height: 40px; \n",
    "              background-color: #4793AF;\n",
    "              color: white;\n",
    "              font-size: 70%;\n",
    "              text-align: center;\n",
    "              padding-top: 10px;\">\n",
    "      DP\n",
    "  </div>\n",
    "  <p style=\"background: linear-gradient(to right,#FC819E,white);\n",
    "            color: transparent;\n",
    "            font-family: Georgia;\n",
    "            color: white;\n",
    "            font-size: 100%;\n",
    "            text-align: left;\n",
    "            padding: 10px;\n",
    "            width: 100%;\n",
    "            letter-spacing:1px;\n",
    "            margin: 0;\">\n",
    "      Feature Encoding\n",
    "  </p>\n",
    "</div>\n"
   ]
  },
  {
   "cell_type": "markdown",
   "id": "0d632cac",
   "metadata": {},
   "source": [
    "<div style=\"display: flex; \n",
    "            align-items: center;\">\n",
    "  <p style=\"background: linear-gradient(to right,#FFE6E6,white);\n",
    "            color: transparent;\n",
    "            font-family: Georgia;\n",
    "            color: black;\n",
    "            font-size: 70%;\n",
    "            text-align: left;\n",
    "            padding: 5px;\n",
    "            padding-left: 10px;\n",
    "            width: 1000%;\n",
    "            letter-spacing:1px;\n",
    "            margin: 0px;\">\n",
    "      Bool Features\n",
    "  </p>\n",
    "</div>"
   ]
  },
  {
   "cell_type": "code",
   "execution_count": 40,
   "id": "d1d049e3",
   "metadata": {},
   "outputs": [
    {
     "name": "stdout",
     "output_type": "stream",
     "text": [
      "<class 'pandas.core.frame.DataFrame'>\n",
      "Int64Index: 8693 entries, 0 to 8692\n",
      "Data columns (total 12 columns):\n",
      " #   Column             Non-Null Count  Dtype  \n",
      "---  ------             --------------  -----  \n",
      " 0   HomePlanet         8693 non-null   object \n",
      " 1   CryoSleep          8693 non-null   object \n",
      " 2   Destination        8693 non-null   object \n",
      " 3   Age                8693 non-null   float64\n",
      " 4   VIP                8693 non-null   object \n",
      " 5   Transported        8693 non-null   bool   \n",
      " 6   Group_Size         8693 non-null   float64\n",
      " 7   Travelling_Solo    8693 non-null   object \n",
      " 8   Cabin_Deck         8693 non-null   object \n",
      " 9   Cabin_Number       8693 non-null   float64\n",
      " 10  Cabin_Side         8693 non-null   object \n",
      " 11  Total_Expenditure  8693 non-null   float64\n",
      "dtypes: bool(1), float64(4), object(7)\n",
      "memory usage: 1.1+ MB\n"
     ]
    }
   ],
   "source": [
    "df.info()"
   ]
  },
  {
   "cell_type": "code",
   "execution_count": 41,
   "id": "a612b675",
   "metadata": {},
   "outputs": [],
   "source": [
    "# columns whose values are boolean\n",
    "bool_cols = ['CryoSleep', 'VIP', 'Travelling_Solo']\n",
    "\n",
    "for col in bool_cols:\n",
    "    df[col] = df[col].astype(bool)\n",
    "    "
   ]
  },
  {
   "cell_type": "code",
   "execution_count": 42,
   "id": "5e9673e0",
   "metadata": {},
   "outputs": [
    {
     "name": "stdout",
     "output_type": "stream",
     "text": [
      "<class 'pandas.core.frame.DataFrame'>\n",
      "Int64Index: 8693 entries, 0 to 8692\n",
      "Data columns (total 12 columns):\n",
      " #   Column             Non-Null Count  Dtype  \n",
      "---  ------             --------------  -----  \n",
      " 0   HomePlanet         8693 non-null   object \n",
      " 1   CryoSleep          8693 non-null   bool   \n",
      " 2   Destination        8693 non-null   object \n",
      " 3   Age                8693 non-null   float64\n",
      " 4   VIP                8693 non-null   bool   \n",
      " 5   Transported        8693 non-null   bool   \n",
      " 6   Group_Size         8693 non-null   float64\n",
      " 7   Travelling_Solo    8693 non-null   bool   \n",
      " 8   Cabin_Deck         8693 non-null   object \n",
      " 9   Cabin_Number       8693 non-null   float64\n",
      " 10  Cabin_Side         8693 non-null   object \n",
      " 11  Total_Expenditure  8693 non-null   float64\n",
      "dtypes: bool(4), float64(4), object(4)\n",
      "memory usage: 903.2+ KB\n"
     ]
    }
   ],
   "source": [
    "df.info()"
   ]
  },
  {
   "cell_type": "code",
   "execution_count": 43,
   "id": "669af8c5",
   "metadata": {},
   "outputs": [],
   "source": [
    "# non-ordinl columns. there is no hierarchy \n",
    "nominal_cols = ['HomePlanet', 'Destination']\n",
    "\n",
    "# ordinal columns\n",
    "ordinal_cols = ['Cabin_Deck', 'Cabin_Side']"
   ]
  },
  {
   "cell_type": "markdown",
   "id": "e87151c8",
   "metadata": {},
   "source": [
    "- For nominal features, apply one-hot encoding\n",
    "- For ordinal features, apply label encoding"
   ]
  },
  {
   "cell_type": "markdown",
   "id": "5579068e",
   "metadata": {},
   "source": [
    "<div style=\"display: flex; \n",
    "            align-items: center;\">\n",
    "  <p style=\"background: linear-gradient(to right,#FFE6E6,white);\n",
    "            color: transparent;\n",
    "            font-family: Georgia;\n",
    "            color: black;\n",
    "            font-size: 80%;\n",
    "            text-align: left;\n",
    "            padding: 5px;\n",
    "            padding-left: 10px;\n",
    "            width: 1000%;\n",
    "            letter-spacing:1px;\n",
    "            margin: 0px;\">\n",
    "      Label Encoding\n",
    "  </p>\n",
    "</div>"
   ]
  },
  {
   "cell_type": "code",
   "execution_count": 44,
   "id": "20758e14",
   "metadata": {},
   "outputs": [],
   "source": [
    "le = LabelEncoder()\n",
    "df[ordinal_cols] = df[ordinal_cols].apply(le.fit_transform)"
   ]
  },
  {
   "cell_type": "markdown",
   "id": "4a4205ab",
   "metadata": {},
   "source": [
    "<div style=\"display: flex; \n",
    "            align-items: center;\">\n",
    "  <p style=\"background: linear-gradient(to right,#FFE6E6,white);\n",
    "            color: transparent;\n",
    "            font-family: Georgia;\n",
    "            color: black;\n",
    "            font-size: 80%;\n",
    "            text-align: left;\n",
    "            padding: 5px;\n",
    "            padding-left: 10px;\n",
    "            width: 1000%;\n",
    "            letter-spacing:1px;\n",
    "            margin: 0px;\">\n",
    "      One-hot Encoding\n",
    "  </p>\n",
    "</div>"
   ]
  },
  {
   "cell_type": "code",
   "execution_count": 45,
   "id": "5ba4b30a",
   "metadata": {},
   "outputs": [],
   "source": [
    "df = pd.get_dummies(df, columns=nominal_cols)"
   ]
  },
  {
   "cell_type": "markdown",
   "id": "1e7dc4c8",
   "metadata": {},
   "source": [
    "Target column - Convert it to numerical values"
   ]
  },
  {
   "cell_type": "code",
   "execution_count": 46,
   "id": "0d336023",
   "metadata": {},
   "outputs": [],
   "source": [
    "df['Transported'] = df['Transported'].replace({'False':0, 'True':1})"
   ]
  },
  {
   "cell_type": "code",
   "execution_count": 47,
   "id": "d9347ab2",
   "metadata": {},
   "outputs": [
    {
     "name": "stdout",
     "output_type": "stream",
     "text": [
      "<class 'pandas.core.frame.DataFrame'>\n",
      "Int64Index: 8693 entries, 0 to 8692\n",
      "Data columns (total 16 columns):\n",
      " #   Column                     Non-Null Count  Dtype  \n",
      "---  ------                     --------------  -----  \n",
      " 0   CryoSleep                  8693 non-null   bool   \n",
      " 1   Age                        8693 non-null   float64\n",
      " 2   VIP                        8693 non-null   bool   \n",
      " 3   Transported                8693 non-null   bool   \n",
      " 4   Group_Size                 8693 non-null   float64\n",
      " 5   Travelling_Solo            8693 non-null   bool   \n",
      " 6   Cabin_Deck                 8693 non-null   int64  \n",
      " 7   Cabin_Number               8693 non-null   float64\n",
      " 8   Cabin_Side                 8693 non-null   int64  \n",
      " 9   Total_Expenditure          8693 non-null   float64\n",
      " 10  HomePlanet_Earth           8693 non-null   uint8  \n",
      " 11  HomePlanet_Europa          8693 non-null   uint8  \n",
      " 12  HomePlanet_Mars            8693 non-null   uint8  \n",
      " 13  Destination_55 Cancri e    8693 non-null   uint8  \n",
      " 14  Destination_PSO J318.5-22  8693 non-null   uint8  \n",
      " 15  Destination_TRAPPIST-1e    8693 non-null   uint8  \n",
      "dtypes: bool(4), float64(4), int64(2), uint8(6)\n",
      "memory usage: 818.3 KB\n"
     ]
    }
   ],
   "source": [
    "df.info()"
   ]
  },
  {
   "cell_type": "markdown",
   "id": "7a23df8b",
   "metadata": {},
   "source": [
    "<div style=\"display: flex; \n",
    "            align-items: center;\">\n",
    "  <div style=\"width: 30px; \n",
    "              height: 40px; \n",
    "              background-color: #4793AF;\n",
    "              color: white;\n",
    "              font-size: 70%;\n",
    "              text-align: center;\n",
    "              padding-top: 10px;\">\n",
    "      FE\n",
    "  </div>\n",
    "  <p style=\"background: linear-gradient(to right,#FC819E,white);\n",
    "            color: transparent;\n",
    "            font-family: Georgia;\n",
    "            color: white;\n",
    "            font-size: 100%;\n",
    "            text-align: left;\n",
    "            padding: 10px;\n",
    "            width: 100%;\n",
    "            letter-spacing:1px;\n",
    "            margin: 0;\">\n",
    "      Creating Training and testing sets\n",
    "  </p>\n",
    "</div>\n"
   ]
  },
  {
   "cell_type": "code",
   "execution_count": 48,
   "id": "7133a3ae",
   "metadata": {},
   "outputs": [],
   "source": [
    "x = df.drop(['Transported'], axis=1)\n",
    "y = df.Transported"
   ]
  },
  {
   "cell_type": "code",
   "execution_count": 49,
   "id": "f639ba12",
   "metadata": {},
   "outputs": [],
   "source": [
    "xtrain, xtest, ytrain, ytest = train_test_split(x, y, test_size=0.3, random_state=2)\n"
   ]
  },
  {
   "cell_type": "markdown",
   "id": "078b07ea",
   "metadata": {},
   "source": [
    "<p style=\"background: linear-gradient(to right,#4793AF,white);\n",
    "          color: transparent;\n",
    "          font-family: Georgia;\n",
    "          color: white;\n",
    "          font-size: 120%;\n",
    "          text-align: left;\n",
    "          padding: 15px;\n",
    "          letter-spacing:1px;\">\n",
    "   8. Machine Learning\n",
    "</p>"
   ]
  },
  {
   "cell_type": "code",
   "execution_count": 50,
   "id": "c5a12cdd",
   "metadata": {},
   "outputs": [],
   "source": [
    "models = {\n",
    "    'Logistic Regression': LogisticRegression(),\n",
    "    'Random Forest': RandomForestClassifier(),\n",
    "    'Support Vector Machine': SVC(),\n",
    "    'Naive Bayes': GaussianNB(),\n",
    "    'K neighbors': KNeighborsClassifier(),\n",
    "    'LGBM': LGBMClassifier()\n",
    "}"
   ]
  },
  {
   "cell_type": "code",
   "execution_count": 51,
   "id": "94d65587",
   "metadata": {},
   "outputs": [],
   "source": [
    "# defining a funciton which outputs a list of 2 items\n",
    "# 1st: accuracy score with the training set\n",
    "# 1st: accuracy score with the testing set\n",
    "def model_prediction(mode, xtrain=xtrain, xtest=xtest, ytrain=ytrain, ytest=ytest):\n",
    "    model.fit(xtrain, ytrain)\n",
    "    train_pred = model.predict(xtrain)\n",
    "    train_acc = accuracy_score(train_pred, ytrain)\n",
    "    \n",
    "    test_pred = model.predict(xtest)\n",
    "    test_acc = accuracy_score(test_pred, ytest)\n",
    "    return [train_acc, test_acc]\n"
   ]
  },
  {
   "cell_type": "markdown",
   "id": "13096872",
   "metadata": {},
   "source": [
    "<div style=\"display: flex; \n",
    "            align-items: center;\">\n",
    "  <div style=\"width: 30px; \n",
    "              height: 40px; \n",
    "              background-color: #4793AF;\n",
    "              color: white;\n",
    "              font-size: 70%;\n",
    "              text-align: center;\n",
    "              padding-top: 10px;\">\n",
    "      ML\n",
    "  </div>\n",
    "  <p style=\"background: linear-gradient(to right,#FC819E,white);\n",
    "            color: transparent;\n",
    "            font-family: Georgia;\n",
    "            color: white;\n",
    "            font-size: 100%;\n",
    "            text-align: left;\n",
    "            padding: 10px;\n",
    "            width: 100%;\n",
    "            letter-spacing:1px;\n",
    "            margin: 0;\">\n",
    "      Training with Un-scaled features\n",
    "  </p>\n",
    "</div>\n"
   ]
  },
  {
   "cell_type": "code",
   "execution_count": 52,
   "id": "a35c5690",
   "metadata": {},
   "outputs": [
    {
     "data": {
      "text/plain": [
       "{'Logistic Regression': [0.73278553820871, 0.7396472392638037],\n",
       " 'Random Forest': [0.9998356614626129, 0.7427147239263804],\n",
       " 'Support Vector Machine': [0.5572719802793755, 0.566717791411043],\n",
       " 'Naive Bayes': [0.7127362366474939, 0.7212423312883436],\n",
       " 'K neighbors': [0.7691043549712407, 0.6702453987730062],\n",
       " 'LGBM': [0.8414133114215283, 0.7576687116564417]}"
      ]
     },
     "execution_count": 52,
     "metadata": {},
     "output_type": "execute_result"
    }
   ],
   "source": [
    "results = {}\n",
    "\n",
    "for name, model in models.items():\n",
    "    results[name] = model_prediction(model)\n",
    "    \n",
    "results"
   ]
  },
  {
   "cell_type": "markdown",
   "id": "6dfb4e0c",
   "metadata": {},
   "source": [
    "<div style=\"display: flex; \n",
    "            align-items: center;\">\n",
    "  <div style=\"width: 30px; \n",
    "              height: 40px; \n",
    "              background-color: #4793AF;\n",
    "              color: white;\n",
    "              font-size: 70%;\n",
    "              text-align: center;\n",
    "              padding-top: 10px;\">\n",
    "      ML\n",
    "  </div>\n",
    "  <p style=\"background: linear-gradient(to right,#FC819E,white);\n",
    "            color: transparent;\n",
    "            font-family: Georgia;\n",
    "            color: white;\n",
    "            font-size: 100%;\n",
    "            text-align: left;\n",
    "            padding: 10px;\n",
    "            width: 100%;\n",
    "            letter-spacing:1px;\n",
    "            margin: 0;\">\n",
    "      Training with scaled features\n",
    "  </p>\n",
    "</div>\n"
   ]
  },
  {
   "cell_type": "markdown",
   "id": "52b8b3a9",
   "metadata": {},
   "source": [
    "<div style=\"display: flex; \n",
    "            align-items: center;\">\n",
    "  <p style=\"background: linear-gradient(to right,#FFE6E6,white);\n",
    "            color: transparent;\n",
    "            font-family: Georgia;\n",
    "            color: black;\n",
    "            font-size: 70%;\n",
    "            text-align: left;\n",
    "            padding: 5px;\n",
    "            padding-left: 10px;\n",
    "            width: 1000%;\n",
    "            letter-spacing:1px;\n",
    "            margin: 0px;\">\n",
    "      Scaling the Data\n",
    "  </p>\n",
    "</div>"
   ]
  },
  {
   "cell_type": "code",
   "execution_count": 53,
   "id": "e249c44b",
   "metadata": {},
   "outputs": [],
   "source": [
    "scaler = StandardScaler()\n",
    "\n",
    "x_scaled = scaler.fit_transform(x)\n",
    "\n",
    "x_scaled_train, x_scaled_test, ytrain, ytest = train_test_split(x_scaled, y, test_size=0.3, random_state=2)\n"
   ]
  },
  {
   "cell_type": "code",
   "execution_count": 54,
   "id": "609437e8",
   "metadata": {},
   "outputs": [
    {
     "data": {
      "text/plain": [
       "{'Logistic Regression': [0.7319638455217748, 0.7427147239263804],\n",
       " 'Random Forest': [0.9998356614626129, 0.7419478527607362],\n",
       " 'Support Vector Machine': [0.7447822514379622, 0.7438650306748467],\n",
       " 'Naive Bayes': [0.7127362366474939, 0.7212423312883436],\n",
       " 'K neighbors': [0.8026294165981923, 0.7312116564417178],\n",
       " 'LGBM': [0.8407559572719803, 0.7572852760736196]}"
      ]
     },
     "execution_count": 54,
     "metadata": {},
     "output_type": "execute_result"
    }
   ],
   "source": [
    "scaled_results = {}\n",
    "\n",
    "for name, model in models.items():\n",
    "    scaled_results[name] = model_prediction(model, xtrain=x_scaled_train, xtest=x_scaled_test)\n",
    "    \n",
    "scaled_results"
   ]
  },
  {
   "cell_type": "markdown",
   "id": "c0ce0984",
   "metadata": {},
   "source": [
    "Scaled and un-scaled data don't have much differences in the accuracy_scores. So let's proceed with unscaled data for simplicity"
   ]
  },
  {
   "cell_type": "markdown",
   "id": "6c3c0286",
   "metadata": {},
   "source": [
    "<div style=\"display: flex; \n",
    "            align-items: center;\">\n",
    "  <div style=\"width: 30px; \n",
    "              height: 40px; \n",
    "              background-color: #4793AF;\n",
    "              color: white;\n",
    "              font-size: 70%;\n",
    "              text-align: center;\n",
    "              padding-top: 10px;\">\n",
    "      ML\n",
    "  </div>\n",
    "  <p style=\"background: linear-gradient(to right,#FC819E,white);\n",
    "            color: transparent;\n",
    "            font-family: Georgia;\n",
    "            color: white;\n",
    "            font-size: 100%;\n",
    "            text-align: left;\n",
    "            padding: 10px;\n",
    "            width: 100%;\n",
    "            letter-spacing:1px;\n",
    "            margin: 0;\">\n",
    "      All performance comparision\n",
    "  </p>\n",
    "</div>\n"
   ]
  },
  {
   "cell_type": "code",
   "execution_count": 59,
   "id": "51cf8e64",
   "metadata": {},
   "outputs": [
    {
     "data": {
      "text/html": [
       "<div>\n",
       "<style scoped>\n",
       "    .dataframe tbody tr th:only-of-type {\n",
       "        vertical-align: middle;\n",
       "    }\n",
       "\n",
       "    .dataframe tbody tr th {\n",
       "        vertical-align: top;\n",
       "    }\n",
       "\n",
       "    .dataframe thead th {\n",
       "        text-align: right;\n",
       "    }\n",
       "</style>\n",
       "<table border=\"1\" class=\"dataframe\">\n",
       "  <thead>\n",
       "    <tr style=\"text-align: right;\">\n",
       "      <th></th>\n",
       "      <th>Training_Score</th>\n",
       "      <th>Testing_Score</th>\n",
       "    </tr>\n",
       "  </thead>\n",
       "  <tbody>\n",
       "    <tr>\n",
       "      <th>Logistic Regression</th>\n",
       "      <td>0.732786</td>\n",
       "      <td>0.739647</td>\n",
       "    </tr>\n",
       "    <tr>\n",
       "      <th>Random Forest</th>\n",
       "      <td>0.999836</td>\n",
       "      <td>0.742715</td>\n",
       "    </tr>\n",
       "    <tr>\n",
       "      <th>Support Vector Machine</th>\n",
       "      <td>0.557272</td>\n",
       "      <td>0.566718</td>\n",
       "    </tr>\n",
       "    <tr>\n",
       "      <th>Naive Bayes</th>\n",
       "      <td>0.712736</td>\n",
       "      <td>0.721242</td>\n",
       "    </tr>\n",
       "    <tr>\n",
       "      <th>K neighbors</th>\n",
       "      <td>0.769104</td>\n",
       "      <td>0.670245</td>\n",
       "    </tr>\n",
       "    <tr>\n",
       "      <th>LGBM</th>\n",
       "      <td>0.841413</td>\n",
       "      <td>0.757669</td>\n",
       "    </tr>\n",
       "  </tbody>\n",
       "</table>\n",
       "</div>"
      ],
      "text/plain": [
       "                        Training_Score  Testing_Score\n",
       "Logistic Regression           0.732786       0.739647\n",
       "Random Forest                 0.999836       0.742715\n",
       "Support Vector Machine        0.557272       0.566718\n",
       "Naive Bayes                   0.712736       0.721242\n",
       "K neighbors                   0.769104       0.670245\n",
       "LGBM                          0.841413       0.757669"
      ]
     },
     "execution_count": 59,
     "metadata": {},
     "output_type": "execute_result"
    }
   ],
   "source": [
    "# converting our model performances toa dataframe\n",
    "result = pd.DataFrame(results).T\n",
    "result.columns = ['Training_Score', 'Testing_Score']\n",
    "result"
   ]
  },
  {
   "cell_type": "code",
   "execution_count": 60,
   "id": "151803d9",
   "metadata": {},
   "outputs": [
    {
     "data": {
      "image/png": "[encoded data removed]",
      "text/plain": [
       "<Figure size 1600x600 with 1 Axes>"
      ]
     },
     "metadata": {},
     "output_type": "display_data"
    }
   ],
   "source": [
    "# plotting the results\n",
    "result.plot(kind='bar', figsize=(16,6),\n",
    "           title=\"Performance Visualization of Different Models\",\n",
    "            colormap=\"Set1\")\n",
    "plt.show()\n"
   ]
  },
  {
   "cell_type": "markdown",
   "id": "7e894a2b",
   "metadata": {},
   "source": [
    "<div style=\"display: flex; \n",
    "            align-items: center;\">\n",
    "  <p style=\"background: linear-gradient(to right,#FFE6E6,white);\n",
    "            color: transparent;\n",
    "            font-family: Georgia;\n",
    "            color: black;\n",
    "            font-size: 70%;\n",
    "            text-align: left;\n",
    "            padding: 5px;\n",
    "            padding-left: 10px;\n",
    "            width: 1000%;\n",
    "            letter-spacing:1px;\n",
    "            margin: 0px;\">\n",
    "      Observations\n",
    "  </p>\n",
    "</div>"
   ]
  },
  {
   "cell_type": "markdown",
   "id": "f2ceac7d",
   "metadata": {},
   "source": [
    "- Even though random forest works very well for the training set, it fails to produce a similar result in testing set. So this might indicate overfitting. \n",
    "- Overall, LGBM seems to be giving the best result on both training and testing sets\n",
    "- Let's go ahead with these two models and see which performs better"
   ]
  },
  {
   "cell_type": "markdown",
   "id": "94239d56",
   "metadata": {},
   "source": [
    "<div style=\"display: flex; \n",
    "            align-items: center;\">\n",
    "  <div style=\"width: 30px; \n",
    "              height: 40px; \n",
    "              background-color: #4793AF;\n",
    "              color: white;\n",
    "              font-size: 70%;\n",
    "              text-align: center;\n",
    "              padding-top: 10px;\">\n",
    "      FE\n",
    "  </div>\n",
    "  <p style=\"background: linear-gradient(to right,#FC819E,white);\n",
    "            color: transparent;\n",
    "            font-family: Georgia;\n",
    "            color: white;\n",
    "            font-size: 100%;\n",
    "            text-align: left;\n",
    "            padding: 10px;\n",
    "            width: 100%;\n",
    "            letter-spacing:1px;\n",
    "            margin: 0;\">\n",
    "      Hyperparameter Tuning\n",
    "  </p>\n",
    "</div>\n"
   ]
  },
  {
   "cell_type": "markdown",
   "id": "3ca27176",
   "metadata": {},
   "source": [
    "<div style=\"display: flex; \n",
    "            align-items: center;\">\n",
    "  <p style=\"background: linear-gradient(to right,#FFE6E6,white);\n",
    "            color: transparent;\n",
    "            font-family: Georgia;\n",
    "            color: black;\n",
    "            font-size: 70%;\n",
    "            text-align: left;\n",
    "            padding: 5px;\n",
    "            padding-left: 10px;\n",
    "            width: 1000%;\n",
    "            letter-spacing:1px;\n",
    "            margin: 0px;\">\n",
    "      Hyper Parameter Tuning for LGBM Model\n",
    "  </p>\n",
    "</div>"
   ]
  },
  {
   "cell_type": "code",
   "execution_count": 63,
   "id": "2c416950",
   "metadata": {},
   "outputs": [
    {
     "data": {
      "text/plain": [
       "GridSearchCV(cv=5, estimator=LGBMClassifier(), n_jobs=-1,\n",
       "             param_grid={'learning_rate': [0.01, 0.02, 0.03],\n",
       "                         'n_estimators': [100, 300, 500, 600, 650],\n",
       "                         'num_leaves': [16, 17, 18],\n",
       "                         'random_state': [0, 42, 48, 50]})"
      ]
     },
     "execution_count": 63,
     "metadata": {},
     "output_type": "execute_result"
    }
   ],
   "source": [
    "parameters1 = {\"n_estimators\":[100,300,500,600,650],\n",
    "              \"learning_rate\":[0.01,0.02,0.03],\n",
    "              \"random_state\":[0,42,48,50],\n",
    "               \"num_leaves\":[16,17,18]}\n",
    "\n",
    "grid_search1 = GridSearchCV(LGBMClassifier(), parameters1, cv=5, n_jobs=-1)\n",
    "\n",
    "grid_search1.fit(xtrain,ytrain.values.ravel())\n",
    "\n"
   ]
  },
  {
   "cell_type": "code",
   "execution_count": 64,
   "id": "e83713c9",
   "metadata": {},
   "outputs": [
    {
     "data": {
      "text/plain": [
       "0.759572719802794"
      ]
     },
     "execution_count": 64,
     "metadata": {},
     "output_type": "execute_result"
    }
   ],
   "source": [
    "grid_search1.best_score_\n"
   ]
  },
  {
   "cell_type": "code",
   "execution_count": 65,
   "id": "f133f3b0",
   "metadata": {},
   "outputs": [
    {
     "data": {
      "text/plain": [
       "{'learning_rate': 0.02,\n",
       " 'n_estimators': 600,\n",
       " 'num_leaves': 16,\n",
       " 'random_state': 0}"
      ]
     },
     "execution_count": 65,
     "metadata": {},
     "output_type": "execute_result"
    }
   ],
   "source": [
    "best_parameters1 = grid_search1.best_params_\n",
    "best_parameters1\n"
   ]
  },
  {
   "cell_type": "markdown",
   "id": "1e214826",
   "metadata": {},
   "source": [
    "Creating LGBM Model with the best parameters"
   ]
  },
  {
   "cell_type": "code",
   "execution_count": 72,
   "id": "d89d381f",
   "metadata": {},
   "outputs": [
    {
     "data": {
      "text/plain": [
       "[0.809695973705834, 0.7611196319018405]"
      ]
     },
     "execution_count": 72,
     "metadata": {},
     "output_type": "execute_result"
    }
   ],
   "source": [
    "lgbm_model = LGBMClassifier(**best_parameters1)\n",
    "lgbm_model.fit(xtrain, ytrain)\n",
    "\n",
    "lgbm_pred1 = lgbm_model.predict(xtrain)\n",
    "lgbm_pred2 = lgbm_model.predict(xtest)\n",
    "\n",
    "lgbm_scores = [accuracy_score(lgbm_pred1, ytrain),\n",
    "               accuracy_score(lgbm_pred2, ytest)]\n",
    "lgbm_scores"
   ]
  },
  {
   "cell_type": "markdown",
   "id": "432a4aeb",
   "metadata": {},
   "source": [
    "The testing set score is better now also the different between the scores in the training and testing sets is reduced. This indicates that there is no iverfitting or underfitting"
   ]
  },
  {
   "cell_type": "markdown",
   "id": "21d516f8",
   "metadata": {},
   "source": [
    "<div style=\"display: flex; \n",
    "            align-items: center;\">\n",
    "  <p style=\"background: linear-gradient(to right,#FFE6E6,white);\n",
    "            color: transparent;\n",
    "            font-family: Georgia;\n",
    "            color: black;\n",
    "            font-size: 70%;\n",
    "            text-align: left;\n",
    "            padding: 5px;\n",
    "            padding-left: 10px;\n",
    "            width: 1000%;\n",
    "            letter-spacing:1px;\n",
    "            margin: 0px;\">\n",
    "      Hyper Parameter Tuning for Random Forest Model\n",
    "  </p>\n",
    "</div>"
   ]
  },
  {
   "cell_type": "code",
   "execution_count": 73,
   "id": "68d78a02",
   "metadata": {},
   "outputs": [
    {
     "data": {
      "text/plain": [
       "GridSearchCV(cv=5, estimator=RandomForestClassifier(), n_jobs=-1,\n",
       "             param_grid={'max_depth': [10, 11, 12],\n",
       "                         'min_samples_leaf': [4, 5, 6],\n",
       "                         'min_samples_split': [7, 8, 9],\n",
       "                         'n_estimators': [100, 300, 500, 550]})"
      ]
     },
     "execution_count": 73,
     "metadata": {},
     "output_type": "execute_result"
    }
   ],
   "source": [
    "parameters2 = {'n_estimators': [100,300,500,550],\n",
    "               'min_samples_split':[7,8,9],\n",
    "               'max_depth': [10,11,12], \n",
    "               'min_samples_leaf':[4,5,6]}\n",
    "    \n",
    "grid_search2 = GridSearchCV(RandomForestClassifier(), parameters2, cv=5, n_jobs=-1)\n",
    "\n",
    "grid_search2.fit(xtrain,ytrain.values.ravel())\n"
   ]
  },
  {
   "cell_type": "code",
   "execution_count": 74,
   "id": "bd197d0b",
   "metadata": {},
   "outputs": [
    {
     "data": {
      "text/plain": [
       "0.7500410846343467"
      ]
     },
     "execution_count": 74,
     "metadata": {},
     "output_type": "execute_result"
    }
   ],
   "source": [
    "grid_search2.best_score_"
   ]
  },
  {
   "cell_type": "code",
   "execution_count": 76,
   "id": "8c967a34",
   "metadata": {},
   "outputs": [
    {
     "data": {
      "text/plain": [
       "{'max_depth': 12,\n",
       " 'min_samples_leaf': 4,\n",
       " 'min_samples_split': 8,\n",
       " 'n_estimators': 100}"
      ]
     },
     "execution_count": 76,
     "metadata": {},
     "output_type": "execute_result"
    }
   ],
   "source": [
    "best_parameters2 = grid_search2.best_params_\n",
    "best_parameters2"
   ]
  },
  {
   "cell_type": "markdown",
   "id": "09edd442",
   "metadata": {},
   "source": [
    "Training Random Forest with the best Parameters"
   ]
  },
  {
   "cell_type": "code",
   "execution_count": 80,
   "id": "a34e30e5",
   "metadata": {},
   "outputs": [
    {
     "data": {
      "text/plain": [
       "[0.8142974527526705, 0.7645705521472392]"
      ]
     },
     "execution_count": 80,
     "metadata": {},
     "output_type": "execute_result"
    }
   ],
   "source": [
    "rf_model = RandomForestClassifier(**best_parameters2)\n",
    "rf_model.fit(xtrain, ytrain)\n",
    "\n",
    "rf_pred1 = rf_model.predict(xtrain)\n",
    "rf_pred2 = rf_model.predict(xtest)\n",
    "\n",
    "rf_scores = [accuracy_score(rf_pred1, ytrain), accuracy_score(rf_pred2, ytest)]\n",
    "rf_scores\n"
   ]
  },
  {
   "cell_type": "markdown",
   "id": "4b3a0c0c",
   "metadata": {},
   "source": [
    "Now, There is clearly no overfitting because there's no significant difference in the accuracy scores of training and testing sets and this model seems to be giving a little better accuracy compared to LGBM Model"
   ]
  },
  {
   "cell_type": "markdown",
   "id": "36124c3f",
   "metadata": {},
   "source": [
    "<p style=\"background: linear-gradient(to right,#4793AF,white);\n",
    "          color: transparent;\n",
    "          font-family: Georgia;\n",
    "          color: white;\n",
    "          font-size: 120%;\n",
    "          text-align: left;\n",
    "          padding: 15px;\n",
    "          letter-spacing:1px;\">\n",
    "   9. Conclusion\n",
    "</p>"
   ]
  },
  {
   "cell_type": "markdown",
   "id": "f695a685",
   "metadata": {},
   "source": [
    "- Both **LGBM** and **Random Forest** algorithms seem to give good results of 76% after hyperparameter tuning"
   ]
  }
 ],
 "metadata": {
  "kernelspec": {
   "display_name": "Python 3 (ipykernel)",
   "language": "python",
   "name": "python3"
  },
  "language_info": {
   "codemirror_mode": {
    "name": "ipython",
    "version": 3
   },
   "file_extension": ".py",
   "mimetype": "text/x-python",
   "name": "python",
   "nbconvert_exporter": "python",
   "pygments_lexer": "ipython3",
   "version": "3.7.13"
  }
 },
 "nbformat": 4,
 "nbformat_minor": 5
}
